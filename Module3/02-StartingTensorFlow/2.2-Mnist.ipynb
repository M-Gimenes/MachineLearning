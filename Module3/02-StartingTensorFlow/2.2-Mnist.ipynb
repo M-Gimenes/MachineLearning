{
 "cells": [
  {
   "cell_type": "code",
   "execution_count": 39,
   "metadata": {},
   "outputs": [],
   "source": [
    "import tensorflow as tf\n",
    "\n",
    "(x_train, y_train), (x_test, y_test) = tf.keras.datasets.mnist.load_data()\n",
    "x_train = x_train.reshape(-1, 784).astype(\"float32\") / 255.0\n",
    "x_test = x_test.reshape(-1, 784).astype(\"float32\") / 255.0\n",
    "\n",
    "y_train = tf.cast(y_train, tf.int32)\n",
    "y_test = tf.cast(y_test, tf.int32)"
   ]
  },
  {
   "cell_type": "code",
   "execution_count": 40,
   "metadata": {},
   "outputs": [],
   "source": [
    "learning_rate = 0.001\n",
    "epochs = 10\n",
    "batch_size = 200"
   ]
  },
  {
   "cell_type": "code",
   "execution_count": 41,
   "metadata": {},
   "outputs": [],
   "source": [
    "train_dataset = tf.data.Dataset.from_tensor_slices((x_train, y_train))\n",
    "train_dataset = (\n",
    "    train_dataset.shuffle(buffer_size=1000)\n",
    "    .batch(batch_size)\n",
    "    .prefetch(buffer_size=tf.data.experimental.AUTOTUNE)\n",
    ")\n",
    "\n",
    "test_dataset = tf.data.Dataset.from_tensor_slices((x_test, y_test))\n",
    "test_dataset = test_dataset.batch(batch_size)"
   ]
  },
  {
   "cell_type": "code",
   "execution_count": 42,
   "metadata": {},
   "outputs": [],
   "source": [
    "n_input = 784\n",
    "n_layer_1 = 30\n",
    "n_layer_2 = 30\n",
    "n_output = 10"
   ]
  },
  {
   "cell_type": "code",
   "execution_count": 43,
   "metadata": {},
   "outputs": [],
   "source": [
    "w1 = tf.Variable(tf.random.normal([n_input, n_layer_1], stddev=0.05))\n",
    "b1 = tf.Variable(tf.zeros([n_layer_1]))\n",
    "\n",
    "w2 = tf.Variable(tf.random.normal([n_layer_1, n_layer_2], stddev=0.05))\n",
    "b2 = tf.Variable(tf.zeros([n_layer_2]))\n",
    "\n",
    "w_out = tf.Variable(tf.random.normal([n_layer_2, n_output], stddev=0.05))\n",
    "b_out = tf.Variable(tf.zeros([n_output]))"
   ]
  },
  {
   "cell_type": "code",
   "execution_count": 44,
   "metadata": {},
   "outputs": [],
   "source": [
    "optimizer = tf.optimizers.Adam(learning_rate=learning_rate)"
   ]
  },
  {
   "cell_type": "code",
   "execution_count": 45,
   "metadata": {},
   "outputs": [
    {
     "name": "stdout",
     "output_type": "stream",
     "text": [
      "Epoch 1, Loss: 0.20276160538196564\n",
      "Epoch 2, Loss: 0.2863790988922119\n",
      "Epoch 3, Loss: 0.21349841356277466\n",
      "Epoch 4, Loss: 0.12812009453773499\n",
      "Epoch 5, Loss: 0.13810642063617706\n",
      "Epoch 6, Loss: 0.09045713394880295\n",
      "Epoch 7, Loss: 0.09209824353456497\n",
      "Epoch 8, Loss: 0.10880052298307419\n",
      "Epoch 9, Loss: 0.0715223029255867\n",
      "Epoch 10, Loss: 0.050713252276182175\n"
     ]
    }
   ],
   "source": [
    "for epoch in range(epochs):\n",
    "    for batch_x, batch_y in train_dataset:\n",
    "        with tf.GradientTape() as tape:\n",
    "            layer_1 = tf.nn.relu(tf.add(tf.matmul(batch_x, w1), b1))\n",
    "            layer_2 = tf.nn.relu(tf.add(tf.matmul(layer_1, w2), b2))\n",
    "            output = tf.add(tf.matmul(layer_2, w_out), b_out)\n",
    "\n",
    "            loss = tf.reduce_mean(tf.nn.sparse_softmax_cross_entropy_with_logits(labels=batch_y, logits=output))\n",
    "\n",
    "        gradients = tape.gradient(loss, [w1, b1, w2, b2, w_out, b_out])\n",
    "        optimizer.apply_gradients(zip(gradients, [w1, b1, w2, b2, w_out, b_out]))\n",
    "\n",
    "    print(f'Epoch {epoch+1}, Loss: {loss.numpy()}')"
   ]
  }
 ],
 "metadata": {
  "kernelspec": {
   "display_name": "venv",
   "language": "python",
   "name": "python3"
  },
  "language_info": {
   "codemirror_mode": {
    "name": "ipython",
    "version": 3
   },
   "file_extension": ".py",
   "mimetype": "text/x-python",
   "name": "python",
   "nbconvert_exporter": "python",
   "pygments_lexer": "ipython3",
   "version": "3.12.4"
  }
 },
 "nbformat": 4,
 "nbformat_minor": 2
}
