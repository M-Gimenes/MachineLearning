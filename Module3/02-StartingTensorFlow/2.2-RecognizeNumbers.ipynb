{
 "cells": [
  {
   "cell_type": "code",
   "execution_count": 12,
   "metadata": {},
   "outputs": [
    {
     "data": {
      "text/plain": [
       "(60000, 10)"
      ]
     },
     "execution_count": 12,
     "metadata": {},
     "output_type": "execute_result"
    }
   ],
   "source": [
    "import tensorflow as tf\n",
    "import keras\n",
    "from keras.datasets import mnist\n",
    "\n",
    "(x_train, y_train), (x_test, y_test) = mnist.load_data()\n",
    "y_train\n",
    "\n",
    "y_train_converted = keras.utils.to_categorical(y_train)\n",
    "y_test_converted = keras.utils.to_categorical(y_test)\n",
    "\n",
    "x_train_remolded = x_train.reshape((60000, 784))\n",
    "x_test_remolded = x_test.reshape((10000, 784))\n",
    "\n",
    "x_train_normalized = x_train_remolded.astype(\"float32\") / 255\n",
    "x_test_normalized = x_test_remolded.astype(\"float32\") / 255"
   ]
  },
  {
   "cell_type": "code",
   "execution_count": null,
   "metadata": {},
   "outputs": [],
   "source": [
    "learning_rate = 0.001\n",
    "epochs = 10\n",
    "batch_size = 200"
   ]
  },
  {
   "cell_type": "code",
   "execution_count": null,
   "metadata": {},
   "outputs": [],
   "source": [
    "n_input = x_train_normalized.shape[1]\n",
    "n_layer_1 = 30\n",
    "n_layer_2 = 30\n",
    "n_class = y_train_converted.shape[1]"
   ]
  },
  {
   "cell_type": "code",
   "execution_count": null,
   "metadata": {},
   "outputs": [],
   "source": [
    "w1 = tf.Variable(tf.random.normal([n_input, n_layer_1], stddev=0.05))\n",
    "b1 = tf.Variable(tf.zeros([n_layer_1]))\n",
    "layer_1 = tf.nn.relu(tf.add(tf.matmul(x, w1), b1))\n",
    "\n",
    "w2 = tf.Variable(tf.random.normal([n_layer_1, n_layer_2], stddev=0.05))\n",
    "b2 = tf.Variable(tf.zeros([n_layer_2]))\n",
    "layer_2 = tf.nn.relu(tf.add(tf.matmul(layer_1, w2), b2))\n",
    "\n",
    "w_out = tf.Variable(tf.random.normal([n_layer_2, n_class], stddev=0.05))\n",
    "b_out = tf.Variable(tf.zeros([n_class]))\n",
    "layer_1 = tf.matmul(layer_2, w_out) + b_out"
   ]
  }
 ],
 "metadata": {
  "kernelspec": {
   "display_name": "Python 3",
   "language": "python",
   "name": "python3"
  },
  "language_info": {
   "codemirror_mode": {
    "name": "ipython",
    "version": 3
   },
   "file_extension": ".py",
   "mimetype": "text/x-python",
   "name": "python",
   "nbconvert_exporter": "python",
   "pygments_lexer": "ipython3",
   "version": "3.12.6"
  }
 },
 "nbformat": 4,
 "nbformat_minor": 2
}
