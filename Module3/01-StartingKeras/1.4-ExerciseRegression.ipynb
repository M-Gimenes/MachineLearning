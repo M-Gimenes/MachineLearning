{
 "cells": [
  {
   "cell_type": "code",
   "execution_count": 89,
   "metadata": {},
   "outputs": [
    {
     "data": {
      "text/html": [
       "<div>\n",
       "<style scoped>\n",
       "    .dataframe tbody tr th:only-of-type {\n",
       "        vertical-align: middle;\n",
       "    }\n",
       "\n",
       "    .dataframe tbody tr th {\n",
       "        vertical-align: top;\n",
       "    }\n",
       "\n",
       "    .dataframe thead th {\n",
       "        text-align: right;\n",
       "    }\n",
       "</style>\n",
       "<table border=\"1\" class=\"dataframe\">\n",
       "  <thead>\n",
       "    <tr style=\"text-align: right;\">\n",
       "      <th></th>\n",
       "      <th>GRE Score</th>\n",
       "      <th>TOEFL Score</th>\n",
       "      <th>University Rating</th>\n",
       "      <th>SOP</th>\n",
       "      <th>LOR</th>\n",
       "      <th>CGPA</th>\n",
       "      <th>Research</th>\n",
       "    </tr>\n",
       "  </thead>\n",
       "  <tbody>\n",
       "    <tr>\n",
       "      <th>0</th>\n",
       "      <td>337</td>\n",
       "      <td>118</td>\n",
       "      <td>4</td>\n",
       "      <td>4.5</td>\n",
       "      <td>4.5</td>\n",
       "      <td>9.65</td>\n",
       "      <td>1</td>\n",
       "    </tr>\n",
       "    <tr>\n",
       "      <th>1</th>\n",
       "      <td>324</td>\n",
       "      <td>107</td>\n",
       "      <td>4</td>\n",
       "      <td>4.0</td>\n",
       "      <td>4.5</td>\n",
       "      <td>8.87</td>\n",
       "      <td>1</td>\n",
       "    </tr>\n",
       "    <tr>\n",
       "      <th>2</th>\n",
       "      <td>316</td>\n",
       "      <td>104</td>\n",
       "      <td>3</td>\n",
       "      <td>3.0</td>\n",
       "      <td>3.5</td>\n",
       "      <td>8.00</td>\n",
       "      <td>1</td>\n",
       "    </tr>\n",
       "    <tr>\n",
       "      <th>3</th>\n",
       "      <td>322</td>\n",
       "      <td>110</td>\n",
       "      <td>3</td>\n",
       "      <td>3.5</td>\n",
       "      <td>2.5</td>\n",
       "      <td>8.67</td>\n",
       "      <td>1</td>\n",
       "    </tr>\n",
       "    <tr>\n",
       "      <th>4</th>\n",
       "      <td>314</td>\n",
       "      <td>103</td>\n",
       "      <td>2</td>\n",
       "      <td>2.0</td>\n",
       "      <td>3.0</td>\n",
       "      <td>8.21</td>\n",
       "      <td>0</td>\n",
       "    </tr>\n",
       "  </tbody>\n",
       "</table>\n",
       "</div>"
      ],
      "text/plain": [
       "   GRE Score  TOEFL Score  University Rating  SOP  LOR   CGPA  Research\n",
       "0        337          118                  4  4.5   4.5  9.65         1\n",
       "1        324          107                  4  4.0   4.5  8.87         1\n",
       "2        316          104                  3  3.0   3.5  8.00         1\n",
       "3        322          110                  3  3.5   2.5  8.67         1\n",
       "4        314          103                  2  2.0   3.0  8.21         0"
      ]
     },
     "execution_count": 89,
     "metadata": {},
     "output_type": "execute_result"
    }
   ],
   "source": [
    "import pandas as pd\n",
    "\n",
    "data = pd.read_csv(\"../../Module1/0-Data/Admission_Predict_Ver1.1.csv\")\n",
    "data.drop(\"Serial No.\", axis=1, inplace=True)\n",
    "\n",
    "x = data.drop(\"Chance of Admit \", axis=1)\n",
    "y = data[\"Chance of Admit \"]\n",
    "\n",
    "x.head()"
   ]
  },
  {
   "cell_type": "code",
   "execution_count": 90,
   "metadata": {},
   "outputs": [],
   "source": [
    "from sklearn.model_selection import train_test_split\n",
    "from sklearn.preprocessing import MinMaxScaler\n",
    "from sklearn.model_selection import StratifiedKFold\n",
    "\n",
    "normalizer = MinMaxScaler(feature_range=(0, 1))\n",
    "x_norm = normalizer.fit_transform(x)\n",
    "\n",
    "x_train, x_test, y_train, y_test = train_test_split(\n",
    "    x_norm, y, test_size=0.3, shuffle=True\n",
    ")"
   ]
  },
  {
   "cell_type": "code",
   "execution_count": 91,
   "metadata": {},
   "outputs": [],
   "source": [
    "import keras\n",
    "from keras.models import Sequential\n",
    "from keras.layers import Dense, Activation, Dropout\n",
    "\n",
    "model = Sequential()\n",
    "model.add(keras.Input((x_norm.shape[1],)))\n",
    "model.add(Dense(8, kernel_initializer=\"normal\", activation=\"relu\"))\n",
    "model.add(Dropout(0.2))\n",
    "model.add(Dense(1, kernel_initializer=\"normal\", activation=\"linear\"))"
   ]
  },
  {
   "cell_type": "code",
   "execution_count": 92,
   "metadata": {},
   "outputs": [],
   "source": [
    "from keras.optimizers import Adam\n",
    "\n",
    "optimizer = Adam()\n",
    "model.compile(\n",
    "    loss=\"mean_squared_error\", optimizer=optimizer, metrics=[\"mean_squared_error\"]\n",
    ")"
   ]
  },
  {
   "cell_type": "code",
   "execution_count": 93,
   "metadata": {},
   "outputs": [
    {
     "name": "stdout",
     "output_type": "stream",
     "text": [
      "(350, 7)\n",
      "Epoch 1/100\n",
      "\u001b[1m7/7\u001b[0m \u001b[32m━━━━━━━━━━━━━━━━━━━━\u001b[0m\u001b[37m\u001b[0m \u001b[1m1s\u001b[0m 18ms/step - loss: 0.5552 - mean_squared_error: 0.5552 - val_loss: 0.5282 - val_mean_squared_error: 0.5282\n",
      "Epoch 2/100\n",
      "\u001b[1m7/7\u001b[0m \u001b[32m━━━━━━━━━━━━━━━━━━━━\u001b[0m\u001b[37m\u001b[0m \u001b[1m0s\u001b[0m 4ms/step - loss: 0.5412 - mean_squared_error: 0.5412 - val_loss: 0.5087 - val_mean_squared_error: 0.5087\n",
      "Epoch 3/100\n",
      "\u001b[1m7/7\u001b[0m \u001b[32m━━━━━━━━━━━━━━━━━━━━\u001b[0m\u001b[37m\u001b[0m \u001b[1m0s\u001b[0m 5ms/step - loss: 0.5127 - mean_squared_error: 0.5127 - val_loss: 0.4885 - val_mean_squared_error: 0.4885\n",
      "Epoch 4/100\n",
      "\u001b[1m7/7\u001b[0m \u001b[32m━━━━━━━━━━━━━━━━━━━━\u001b[0m\u001b[37m\u001b[0m \u001b[1m0s\u001b[0m 5ms/step - loss: 0.4931 - mean_squared_error: 0.4931 - val_loss: 0.4664 - val_mean_squared_error: 0.4664\n",
      "Epoch 5/100\n",
      "\u001b[1m7/7\u001b[0m \u001b[32m━━━━━━━━━━━━━━━━━━━━\u001b[0m\u001b[37m\u001b[0m \u001b[1m0s\u001b[0m 5ms/step - loss: 0.4770 - mean_squared_error: 0.4770 - val_loss: 0.4420 - val_mean_squared_error: 0.4420\n",
      "Epoch 6/100\n",
      "\u001b[1m7/7\u001b[0m \u001b[32m━━━━━━━━━━━━━━━━━━━━\u001b[0m\u001b[37m\u001b[0m \u001b[1m0s\u001b[0m 5ms/step - loss: 0.4485 - mean_squared_error: 0.4485 - val_loss: 0.4150 - val_mean_squared_error: 0.4150\n",
      "Epoch 7/100\n",
      "\u001b[1m7/7\u001b[0m \u001b[32m━━━━━━━━━━━━━━━━━━━━\u001b[0m\u001b[37m\u001b[0m \u001b[1m0s\u001b[0m 5ms/step - loss: 0.4196 - mean_squared_error: 0.4196 - val_loss: 0.3855 - val_mean_squared_error: 0.3855\n",
      "Epoch 8/100\n",
      "\u001b[1m7/7\u001b[0m \u001b[32m━━━━━━━━━━━━━━━━━━━━\u001b[0m\u001b[37m\u001b[0m \u001b[1m0s\u001b[0m 5ms/step - loss: 0.3742 - mean_squared_error: 0.3742 - val_loss: 0.3536 - val_mean_squared_error: 0.3536\n",
      "Epoch 9/100\n",
      "\u001b[1m7/7\u001b[0m \u001b[32m━━━━━━━━━━━━━━━━━━━━\u001b[0m\u001b[37m\u001b[0m \u001b[1m0s\u001b[0m 5ms/step - loss: 0.3532 - mean_squared_error: 0.3532 - val_loss: 0.3199 - val_mean_squared_error: 0.3199\n",
      "Epoch 10/100\n",
      "\u001b[1m7/7\u001b[0m \u001b[32m━━━━━━━━━━━━━━━━━━━━\u001b[0m\u001b[37m\u001b[0m \u001b[1m0s\u001b[0m 5ms/step - loss: 0.3150 - mean_squared_error: 0.3150 - val_loss: 0.2852 - val_mean_squared_error: 0.2852\n",
      "Epoch 11/100\n",
      "\u001b[1m7/7\u001b[0m \u001b[32m━━━━━━━━━━━━━━━━━━━━\u001b[0m\u001b[37m\u001b[0m \u001b[1m0s\u001b[0m 5ms/step - loss: 0.2877 - mean_squared_error: 0.2877 - val_loss: 0.2500 - val_mean_squared_error: 0.2500\n",
      "Epoch 12/100\n",
      "\u001b[1m7/7\u001b[0m \u001b[32m━━━━━━━━━━━━━━━━━━━━\u001b[0m\u001b[37m\u001b[0m \u001b[1m0s\u001b[0m 5ms/step - loss: 0.2487 - mean_squared_error: 0.2487 - val_loss: 0.2151 - val_mean_squared_error: 0.2151\n",
      "Epoch 13/100\n",
      "\u001b[1m7/7\u001b[0m \u001b[32m━━━━━━━━━━━━━━━━━━━━\u001b[0m\u001b[37m\u001b[0m \u001b[1m0s\u001b[0m 5ms/step - loss: 0.2131 - mean_squared_error: 0.2131 - val_loss: 0.1816 - val_mean_squared_error: 0.1816\n",
      "Epoch 14/100\n",
      "\u001b[1m7/7\u001b[0m \u001b[32m━━━━━━━━━━━━━━━━━━━━\u001b[0m\u001b[37m\u001b[0m \u001b[1m0s\u001b[0m 5ms/step - loss: 0.1866 - mean_squared_error: 0.1866 - val_loss: 0.1500 - val_mean_squared_error: 0.1500\n",
      "Epoch 15/100\n",
      "\u001b[1m7/7\u001b[0m \u001b[32m━━━━━━━━━━━━━━━━━━━━\u001b[0m\u001b[37m\u001b[0m \u001b[1m0s\u001b[0m 5ms/step - loss: 0.1527 - mean_squared_error: 0.1527 - val_loss: 0.1214 - val_mean_squared_error: 0.1214\n",
      "Epoch 16/100\n",
      "\u001b[1m7/7\u001b[0m \u001b[32m━━━━━━━━━━━━━━━━━━━━\u001b[0m\u001b[37m\u001b[0m \u001b[1m0s\u001b[0m 5ms/step - loss: 0.1270 - mean_squared_error: 0.1270 - val_loss: 0.0965 - val_mean_squared_error: 0.0965\n",
      "Epoch 17/100\n",
      "\u001b[1m7/7\u001b[0m \u001b[32m━━━━━━━━━━━━━━━━━━━━\u001b[0m\u001b[37m\u001b[0m \u001b[1m0s\u001b[0m 5ms/step - loss: 0.0991 - mean_squared_error: 0.0991 - val_loss: 0.0751 - val_mean_squared_error: 0.0751\n",
      "Epoch 18/100\n",
      "\u001b[1m7/7\u001b[0m \u001b[32m━━━━━━━━━━━━━━━━━━━━\u001b[0m\u001b[37m\u001b[0m \u001b[1m0s\u001b[0m 5ms/step - loss: 0.0896 - mean_squared_error: 0.0896 - val_loss: 0.0574 - val_mean_squared_error: 0.0574\n",
      "Epoch 19/100\n",
      "\u001b[1m7/7\u001b[0m \u001b[32m━━━━━━━━━━━━━━━━━━━━\u001b[0m\u001b[37m\u001b[0m \u001b[1m0s\u001b[0m 5ms/step - loss: 0.0668 - mean_squared_error: 0.0668 - val_loss: 0.0436 - val_mean_squared_error: 0.0436\n",
      "Epoch 20/100\n",
      "\u001b[1m7/7\u001b[0m \u001b[32m━━━━━━━━━━━━━━━━━━━━\u001b[0m\u001b[37m\u001b[0m \u001b[1m0s\u001b[0m 5ms/step - loss: 0.0531 - mean_squared_error: 0.0531 - val_loss: 0.0333 - val_mean_squared_error: 0.0333\n",
      "Epoch 21/100\n",
      "\u001b[1m7/7\u001b[0m \u001b[32m━━━━━━━━━━━━━━━━━━━━\u001b[0m\u001b[37m\u001b[0m \u001b[1m0s\u001b[0m 5ms/step - loss: 0.0530 - mean_squared_error: 0.0530 - val_loss: 0.0258 - val_mean_squared_error: 0.0258\n",
      "Epoch 22/100\n",
      "\u001b[1m7/7\u001b[0m \u001b[32m━━━━━━━━━━━━━━━━━━━━\u001b[0m\u001b[37m\u001b[0m \u001b[1m0s\u001b[0m 5ms/step - loss: 0.0362 - mean_squared_error: 0.0362 - val_loss: 0.0208 - val_mean_squared_error: 0.0208\n",
      "Epoch 23/100\n",
      "\u001b[1m7/7\u001b[0m \u001b[32m━━━━━━━━━━━━━━━━━━━━\u001b[0m\u001b[37m\u001b[0m \u001b[1m0s\u001b[0m 5ms/step - loss: 0.0399 - mean_squared_error: 0.0399 - val_loss: 0.0174 - val_mean_squared_error: 0.0174\n",
      "Epoch 24/100\n",
      "\u001b[1m7/7\u001b[0m \u001b[32m━━━━━━━━━━━━━━━━━━━━\u001b[0m\u001b[37m\u001b[0m \u001b[1m0s\u001b[0m 5ms/step - loss: 0.0436 - mean_squared_error: 0.0436 - val_loss: 0.0152 - val_mean_squared_error: 0.0152\n",
      "Epoch 25/100\n",
      "\u001b[1m7/7\u001b[0m \u001b[32m━━━━━━━━━━━━━━━━━━━━\u001b[0m\u001b[37m\u001b[0m \u001b[1m0s\u001b[0m 5ms/step - loss: 0.0413 - mean_squared_error: 0.0413 - val_loss: 0.0136 - val_mean_squared_error: 0.0136\n",
      "Epoch 26/100\n",
      "\u001b[1m7/7\u001b[0m \u001b[32m━━━━━━━━━━━━━━━━━━━━\u001b[0m\u001b[37m\u001b[0m \u001b[1m0s\u001b[0m 5ms/step - loss: 0.0469 - mean_squared_error: 0.0469 - val_loss: 0.0126 - val_mean_squared_error: 0.0126\n",
      "Epoch 27/100\n",
      "\u001b[1m7/7\u001b[0m \u001b[32m━━━━━━━━━━━━━━━━━━━━\u001b[0m\u001b[37m\u001b[0m \u001b[1m0s\u001b[0m 5ms/step - loss: 0.0380 - mean_squared_error: 0.0380 - val_loss: 0.0121 - val_mean_squared_error: 0.0121\n",
      "Epoch 28/100\n",
      "\u001b[1m7/7\u001b[0m \u001b[32m━━━━━━━━━━━━━━━━━━━━\u001b[0m\u001b[37m\u001b[0m \u001b[1m0s\u001b[0m 5ms/step - loss: 0.0383 - mean_squared_error: 0.0383 - val_loss: 0.0117 - val_mean_squared_error: 0.0117\n",
      "Epoch 29/100\n",
      "\u001b[1m7/7\u001b[0m \u001b[32m━━━━━━━━━━━━━━━━━━━━\u001b[0m\u001b[37m\u001b[0m \u001b[1m0s\u001b[0m 5ms/step - loss: 0.0430 - mean_squared_error: 0.0430 - val_loss: 0.0116 - val_mean_squared_error: 0.0116\n",
      "Epoch 30/100\n",
      "\u001b[1m7/7\u001b[0m \u001b[32m━━━━━━━━━━━━━━━━━━━━\u001b[0m\u001b[37m\u001b[0m \u001b[1m0s\u001b[0m 5ms/step - loss: 0.0380 - mean_squared_error: 0.0380 - val_loss: 0.0114 - val_mean_squared_error: 0.0114\n",
      "Epoch 31/100\n",
      "\u001b[1m7/7\u001b[0m \u001b[32m━━━━━━━━━━━━━━━━━━━━\u001b[0m\u001b[37m\u001b[0m \u001b[1m0s\u001b[0m 4ms/step - loss: 0.0306 - mean_squared_error: 0.0306 - val_loss: 0.0113 - val_mean_squared_error: 0.0113\n",
      "Epoch 32/100\n",
      "\u001b[1m7/7\u001b[0m \u001b[32m━━━━━━━━━━━━━━━━━━━━\u001b[0m\u001b[37m\u001b[0m \u001b[1m0s\u001b[0m 4ms/step - loss: 0.0365 - mean_squared_error: 0.0365 - val_loss: 0.0112 - val_mean_squared_error: 0.0112\n",
      "Epoch 33/100\n",
      "\u001b[1m7/7\u001b[0m \u001b[32m━━━━━━━━━━━━━━━━━━━━\u001b[0m\u001b[37m\u001b[0m \u001b[1m0s\u001b[0m 5ms/step - loss: 0.0359 - mean_squared_error: 0.0359 - val_loss: 0.0111 - val_mean_squared_error: 0.0111\n",
      "Epoch 34/100\n",
      "\u001b[1m7/7\u001b[0m \u001b[32m━━━━━━━━━━━━━━━━━━━━\u001b[0m\u001b[37m\u001b[0m \u001b[1m0s\u001b[0m 5ms/step - loss: 0.0359 - mean_squared_error: 0.0359 - val_loss: 0.0111 - val_mean_squared_error: 0.0111\n",
      "Epoch 35/100\n",
      "\u001b[1m7/7\u001b[0m \u001b[32m━━━━━━━━━━━━━━━━━━━━\u001b[0m\u001b[37m\u001b[0m \u001b[1m0s\u001b[0m 5ms/step - loss: 0.0366 - mean_squared_error: 0.0366 - val_loss: 0.0111 - val_mean_squared_error: 0.0111\n",
      "Epoch 36/100\n",
      "\u001b[1m7/7\u001b[0m \u001b[32m━━━━━━━━━━━━━━━━━━━━\u001b[0m\u001b[37m\u001b[0m \u001b[1m0s\u001b[0m 4ms/step - loss: 0.0394 - mean_squared_error: 0.0394 - val_loss: 0.0110 - val_mean_squared_error: 0.0110\n",
      "Epoch 37/100\n",
      "\u001b[1m7/7\u001b[0m \u001b[32m━━━━━━━━━━━━━━━━━━━━\u001b[0m\u001b[37m\u001b[0m \u001b[1m0s\u001b[0m 5ms/step - loss: 0.0323 - mean_squared_error: 0.0323 - val_loss: 0.0109 - val_mean_squared_error: 0.0109\n",
      "Epoch 38/100\n",
      "\u001b[1m7/7\u001b[0m \u001b[32m━━━━━━━━━━━━━━━━━━━━\u001b[0m\u001b[37m\u001b[0m \u001b[1m0s\u001b[0m 5ms/step - loss: 0.0372 - mean_squared_error: 0.0372 - val_loss: 0.0109 - val_mean_squared_error: 0.0109\n",
      "Epoch 39/100\n",
      "\u001b[1m7/7\u001b[0m \u001b[32m━━━━━━━━━━━━━━━━━━━━\u001b[0m\u001b[37m\u001b[0m \u001b[1m0s\u001b[0m 5ms/step - loss: 0.0350 - mean_squared_error: 0.0350 - val_loss: 0.0108 - val_mean_squared_error: 0.0108\n",
      "Epoch 40/100\n",
      "\u001b[1m7/7\u001b[0m \u001b[32m━━━━━━━━━━━━━━━━━━━━\u001b[0m\u001b[37m\u001b[0m \u001b[1m0s\u001b[0m 5ms/step - loss: 0.0342 - mean_squared_error: 0.0342 - val_loss: 0.0107 - val_mean_squared_error: 0.0107\n",
      "Epoch 41/100\n",
      "\u001b[1m7/7\u001b[0m \u001b[32m━━━━━━━━━━━━━━━━━━━━\u001b[0m\u001b[37m\u001b[0m \u001b[1m0s\u001b[0m 4ms/step - loss: 0.0395 - mean_squared_error: 0.0395 - val_loss: 0.0108 - val_mean_squared_error: 0.0108\n",
      "Epoch 42/100\n",
      "\u001b[1m7/7\u001b[0m \u001b[32m━━━━━━━━━━━━━━━━━━━━\u001b[0m\u001b[37m\u001b[0m \u001b[1m0s\u001b[0m 5ms/step - loss: 0.0294 - mean_squared_error: 0.0294 - val_loss: 0.0109 - val_mean_squared_error: 0.0109\n",
      "Epoch 43/100\n",
      "\u001b[1m7/7\u001b[0m \u001b[32m━━━━━━━━━━━━━━━━━━━━\u001b[0m\u001b[37m\u001b[0m \u001b[1m0s\u001b[0m 5ms/step - loss: 0.0349 - mean_squared_error: 0.0349 - val_loss: 0.0107 - val_mean_squared_error: 0.0107\n",
      "Epoch 44/100\n",
      "\u001b[1m7/7\u001b[0m \u001b[32m━━━━━━━━━━━━━━━━━━━━\u001b[0m\u001b[37m\u001b[0m \u001b[1m0s\u001b[0m 5ms/step - loss: 0.0362 - mean_squared_error: 0.0362 - val_loss: 0.0106 - val_mean_squared_error: 0.0106\n",
      "Epoch 45/100\n",
      "\u001b[1m7/7\u001b[0m \u001b[32m━━━━━━━━━━━━━━━━━━━━\u001b[0m\u001b[37m\u001b[0m \u001b[1m0s\u001b[0m 4ms/step - loss: 0.0411 - mean_squared_error: 0.0411 - val_loss: 0.0105 - val_mean_squared_error: 0.0105\n",
      "Epoch 46/100\n",
      "\u001b[1m7/7\u001b[0m \u001b[32m━━━━━━━━━━━━━━━━━━━━\u001b[0m\u001b[37m\u001b[0m \u001b[1m0s\u001b[0m 5ms/step - loss: 0.0311 - mean_squared_error: 0.0311 - val_loss: 0.0104 - val_mean_squared_error: 0.0104\n",
      "Epoch 47/100\n",
      "\u001b[1m7/7\u001b[0m \u001b[32m━━━━━━━━━━━━━━━━━━━━\u001b[0m\u001b[37m\u001b[0m \u001b[1m0s\u001b[0m 4ms/step - loss: 0.0315 - mean_squared_error: 0.0315 - val_loss: 0.0104 - val_mean_squared_error: 0.0104\n",
      "Epoch 48/100\n",
      "\u001b[1m7/7\u001b[0m \u001b[32m━━━━━━━━━━━━━━━━━━━━\u001b[0m\u001b[37m\u001b[0m \u001b[1m0s\u001b[0m 4ms/step - loss: 0.0331 - mean_squared_error: 0.0331 - val_loss: 0.0105 - val_mean_squared_error: 0.0105\n",
      "Epoch 49/100\n",
      "\u001b[1m7/7\u001b[0m \u001b[32m━━━━━━━━━━━━━━━━━━━━\u001b[0m\u001b[37m\u001b[0m \u001b[1m0s\u001b[0m 4ms/step - loss: 0.0285 - mean_squared_error: 0.0285 - val_loss: 0.0104 - val_mean_squared_error: 0.0104\n",
      "Epoch 50/100\n",
      "\u001b[1m7/7\u001b[0m \u001b[32m━━━━━━━━━━━━━━━━━━━━\u001b[0m\u001b[37m\u001b[0m \u001b[1m0s\u001b[0m 4ms/step - loss: 0.0309 - mean_squared_error: 0.0309 - val_loss: 0.0103 - val_mean_squared_error: 0.0103\n",
      "Epoch 51/100\n",
      "\u001b[1m7/7\u001b[0m \u001b[32m━━━━━━━━━━━━━━━━━━━━\u001b[0m\u001b[37m\u001b[0m \u001b[1m0s\u001b[0m 5ms/step - loss: 0.0347 - mean_squared_error: 0.0347 - val_loss: 0.0103 - val_mean_squared_error: 0.0103\n",
      "Epoch 52/100\n",
      "\u001b[1m7/7\u001b[0m \u001b[32m━━━━━━━━━━━━━━━━━━━━\u001b[0m\u001b[37m\u001b[0m \u001b[1m0s\u001b[0m 4ms/step - loss: 0.0302 - mean_squared_error: 0.0302 - val_loss: 0.0102 - val_mean_squared_error: 0.0102\n",
      "Epoch 53/100\n",
      "\u001b[1m7/7\u001b[0m \u001b[32m━━━━━━━━━━━━━━━━━━━━\u001b[0m\u001b[37m\u001b[0m \u001b[1m0s\u001b[0m 5ms/step - loss: 0.0407 - mean_squared_error: 0.0407 - val_loss: 0.0100 - val_mean_squared_error: 0.0100\n",
      "Epoch 54/100\n",
      "\u001b[1m7/7\u001b[0m \u001b[32m━━━━━━━━━━━━━━━━━━━━\u001b[0m\u001b[37m\u001b[0m \u001b[1m0s\u001b[0m 4ms/step - loss: 0.0290 - mean_squared_error: 0.0290 - val_loss: 0.0096 - val_mean_squared_error: 0.0096\n",
      "Epoch 55/100\n",
      "\u001b[1m7/7\u001b[0m \u001b[32m━━━━━━━━━━━━━━━━━━━━\u001b[0m\u001b[37m\u001b[0m \u001b[1m0s\u001b[0m 5ms/step - loss: 0.0359 - mean_squared_error: 0.0359 - val_loss: 0.0094 - val_mean_squared_error: 0.0094\n",
      "Epoch 56/100\n",
      "\u001b[1m7/7\u001b[0m \u001b[32m━━━━━━━━━━━━━━━━━━━━\u001b[0m\u001b[37m\u001b[0m \u001b[1m0s\u001b[0m 4ms/step - loss: 0.0375 - mean_squared_error: 0.0375 - val_loss: 0.0093 - val_mean_squared_error: 0.0093\n",
      "Epoch 57/100\n",
      "\u001b[1m7/7\u001b[0m \u001b[32m━━━━━━━━━━━━━━━━━━━━\u001b[0m\u001b[37m\u001b[0m \u001b[1m0s\u001b[0m 5ms/step - loss: 0.0304 - mean_squared_error: 0.0304 - val_loss: 0.0093 - val_mean_squared_error: 0.0093\n",
      "Epoch 58/100\n",
      "\u001b[1m7/7\u001b[0m \u001b[32m━━━━━━━━━━━━━━━━━━━━\u001b[0m\u001b[37m\u001b[0m \u001b[1m0s\u001b[0m 5ms/step - loss: 0.0360 - mean_squared_error: 0.0360 - val_loss: 0.0094 - val_mean_squared_error: 0.0094\n",
      "Epoch 59/100\n",
      "\u001b[1m7/7\u001b[0m \u001b[32m━━━━━━━━━━━━━━━━━━━━\u001b[0m\u001b[37m\u001b[0m \u001b[1m0s\u001b[0m 5ms/step - loss: 0.0322 - mean_squared_error: 0.0322 - val_loss: 0.0095 - val_mean_squared_error: 0.0095\n",
      "Epoch 60/100\n",
      "\u001b[1m7/7\u001b[0m \u001b[32m━━━━━━━━━━━━━━━━━━━━\u001b[0m\u001b[37m\u001b[0m \u001b[1m0s\u001b[0m 4ms/step - loss: 0.0348 - mean_squared_error: 0.0348 - val_loss: 0.0094 - val_mean_squared_error: 0.0094\n",
      "Epoch 61/100\n",
      "\u001b[1m7/7\u001b[0m \u001b[32m━━━━━━━━━━━━━━━━━━━━\u001b[0m\u001b[37m\u001b[0m \u001b[1m0s\u001b[0m 4ms/step - loss: 0.0261 - mean_squared_error: 0.0261 - val_loss: 0.0093 - val_mean_squared_error: 0.0093\n",
      "Epoch 62/100\n",
      "\u001b[1m7/7\u001b[0m \u001b[32m━━━━━━━━━━━━━━━━━━━━\u001b[0m\u001b[37m\u001b[0m \u001b[1m0s\u001b[0m 5ms/step - loss: 0.0276 - mean_squared_error: 0.0276 - val_loss: 0.0092 - val_mean_squared_error: 0.0092\n",
      "Epoch 63/100\n",
      "\u001b[1m7/7\u001b[0m \u001b[32m━━━━━━━━━━━━━━━━━━━━\u001b[0m\u001b[37m\u001b[0m \u001b[1m0s\u001b[0m 5ms/step - loss: 0.0356 - mean_squared_error: 0.0356 - val_loss: 0.0090 - val_mean_squared_error: 0.0090\n",
      "Epoch 64/100\n",
      "\u001b[1m7/7\u001b[0m \u001b[32m━━━━━━━━━━━━━━━━━━━━\u001b[0m\u001b[37m\u001b[0m \u001b[1m0s\u001b[0m 5ms/step - loss: 0.0305 - mean_squared_error: 0.0305 - val_loss: 0.0089 - val_mean_squared_error: 0.0089\n",
      "Epoch 65/100\n",
      "\u001b[1m7/7\u001b[0m \u001b[32m━━━━━━━━━━━━━━━━━━━━\u001b[0m\u001b[37m\u001b[0m \u001b[1m0s\u001b[0m 5ms/step - loss: 0.0330 - mean_squared_error: 0.0330 - val_loss: 0.0089 - val_mean_squared_error: 0.0089\n",
      "Epoch 66/100\n",
      "\u001b[1m7/7\u001b[0m \u001b[32m━━━━━━━━━━━━━━━━━━━━\u001b[0m\u001b[37m\u001b[0m \u001b[1m0s\u001b[0m 5ms/step - loss: 0.0336 - mean_squared_error: 0.0336 - val_loss: 0.0087 - val_mean_squared_error: 0.0087\n",
      "Epoch 67/100\n",
      "\u001b[1m7/7\u001b[0m \u001b[32m━━━━━━━━━━━━━━━━━━━━\u001b[0m\u001b[37m\u001b[0m \u001b[1m0s\u001b[0m 5ms/step - loss: 0.0307 - mean_squared_error: 0.0307 - val_loss: 0.0086 - val_mean_squared_error: 0.0086\n",
      "Epoch 68/100\n",
      "\u001b[1m7/7\u001b[0m \u001b[32m━━━━━━━━━━━━━━━━━━━━\u001b[0m\u001b[37m\u001b[0m \u001b[1m0s\u001b[0m 7ms/step - loss: 0.0292 - mean_squared_error: 0.0292 - val_loss: 0.0087 - val_mean_squared_error: 0.0087\n",
      "Epoch 69/100\n",
      "\u001b[1m7/7\u001b[0m \u001b[32m━━━━━━━━━━━━━━━━━━━━\u001b[0m\u001b[37m\u001b[0m \u001b[1m0s\u001b[0m 5ms/step - loss: 0.0260 - mean_squared_error: 0.0260 - val_loss: 0.0087 - val_mean_squared_error: 0.0087\n",
      "Epoch 70/100\n",
      "\u001b[1m7/7\u001b[0m \u001b[32m━━━━━━━━━━━━━━━━━━━━\u001b[0m\u001b[37m\u001b[0m \u001b[1m0s\u001b[0m 5ms/step - loss: 0.0272 - mean_squared_error: 0.0272 - val_loss: 0.0086 - val_mean_squared_error: 0.0086\n",
      "Epoch 71/100\n",
      "\u001b[1m7/7\u001b[0m \u001b[32m━━━━━━━━━━━━━━━━━━━━\u001b[0m\u001b[37m\u001b[0m \u001b[1m0s\u001b[0m 5ms/step - loss: 0.0267 - mean_squared_error: 0.0267 - val_loss: 0.0086 - val_mean_squared_error: 0.0086\n",
      "Epoch 72/100\n",
      "\u001b[1m7/7\u001b[0m \u001b[32m━━━━━━━━━━━━━━━━━━━━\u001b[0m\u001b[37m\u001b[0m \u001b[1m0s\u001b[0m 5ms/step - loss: 0.0242 - mean_squared_error: 0.0242 - val_loss: 0.0086 - val_mean_squared_error: 0.0086\n",
      "Epoch 73/100\n",
      "\u001b[1m7/7\u001b[0m \u001b[32m━━━━━━━━━━━━━━━━━━━━\u001b[0m\u001b[37m\u001b[0m \u001b[1m0s\u001b[0m 4ms/step - loss: 0.0277 - mean_squared_error: 0.0277 - val_loss: 0.0087 - val_mean_squared_error: 0.0087\n",
      "Epoch 74/100\n",
      "\u001b[1m7/7\u001b[0m \u001b[32m━━━━━━━━━━━━━━━━━━━━\u001b[0m\u001b[37m\u001b[0m \u001b[1m0s\u001b[0m 4ms/step - loss: 0.0291 - mean_squared_error: 0.0291 - val_loss: 0.0086 - val_mean_squared_error: 0.0086\n",
      "Epoch 75/100\n",
      "\u001b[1m7/7\u001b[0m \u001b[32m━━━━━━━━━━━━━━━━━━━━\u001b[0m\u001b[37m\u001b[0m \u001b[1m0s\u001b[0m 4ms/step - loss: 0.0334 - mean_squared_error: 0.0334 - val_loss: 0.0085 - val_mean_squared_error: 0.0085\n",
      "Epoch 76/100\n",
      "\u001b[1m7/7\u001b[0m \u001b[32m━━━━━━━━━━━━━━━━━━━━\u001b[0m\u001b[37m\u001b[0m \u001b[1m0s\u001b[0m 4ms/step - loss: 0.0315 - mean_squared_error: 0.0315 - val_loss: 0.0083 - val_mean_squared_error: 0.0083\n",
      "Epoch 77/100\n",
      "\u001b[1m7/7\u001b[0m \u001b[32m━━━━━━━━━━━━━━━━━━━━\u001b[0m\u001b[37m\u001b[0m \u001b[1m0s\u001b[0m 5ms/step - loss: 0.0251 - mean_squared_error: 0.0251 - val_loss: 0.0084 - val_mean_squared_error: 0.0084\n",
      "Epoch 78/100\n",
      "\u001b[1m7/7\u001b[0m \u001b[32m━━━━━━━━━━━━━━━━━━━━\u001b[0m\u001b[37m\u001b[0m \u001b[1m0s\u001b[0m 5ms/step - loss: 0.0252 - mean_squared_error: 0.0252 - val_loss: 0.0085 - val_mean_squared_error: 0.0085\n",
      "Epoch 79/100\n",
      "\u001b[1m7/7\u001b[0m \u001b[32m━━━━━━━━━━━━━━━━━━━━\u001b[0m\u001b[37m\u001b[0m \u001b[1m0s\u001b[0m 5ms/step - loss: 0.0249 - mean_squared_error: 0.0249 - val_loss: 0.0086 - val_mean_squared_error: 0.0086\n",
      "Epoch 80/100\n",
      "\u001b[1m7/7\u001b[0m \u001b[32m━━━━━━━━━━━━━━━━━━━━\u001b[0m\u001b[37m\u001b[0m \u001b[1m0s\u001b[0m 5ms/step - loss: 0.0239 - mean_squared_error: 0.0239 - val_loss: 0.0083 - val_mean_squared_error: 0.0083\n",
      "Epoch 81/100\n",
      "\u001b[1m7/7\u001b[0m \u001b[32m━━━━━━━━━━━━━━━━━━━━\u001b[0m\u001b[37m\u001b[0m \u001b[1m0s\u001b[0m 4ms/step - loss: 0.0317 - mean_squared_error: 0.0317 - val_loss: 0.0080 - val_mean_squared_error: 0.0080\n",
      "Epoch 82/100\n",
      "\u001b[1m7/7\u001b[0m \u001b[32m━━━━━━━━━━━━━━━━━━━━\u001b[0m\u001b[37m\u001b[0m \u001b[1m0s\u001b[0m 4ms/step - loss: 0.0329 - mean_squared_error: 0.0329 - val_loss: 0.0078 - val_mean_squared_error: 0.0078\n",
      "Epoch 83/100\n",
      "\u001b[1m7/7\u001b[0m \u001b[32m━━━━━━━━━━━━━━━━━━━━\u001b[0m\u001b[37m\u001b[0m \u001b[1m0s\u001b[0m 5ms/step - loss: 0.0220 - mean_squared_error: 0.0220 - val_loss: 0.0078 - val_mean_squared_error: 0.0078\n",
      "Epoch 84/100\n",
      "\u001b[1m7/7\u001b[0m \u001b[32m━━━━━━━━━━━━━━━━━━━━\u001b[0m\u001b[37m\u001b[0m \u001b[1m0s\u001b[0m 5ms/step - loss: 0.0346 - mean_squared_error: 0.0346 - val_loss: 0.0077 - val_mean_squared_error: 0.0077\n",
      "Epoch 85/100\n",
      "\u001b[1m7/7\u001b[0m \u001b[32m━━━━━━━━━━━━━━━━━━━━\u001b[0m\u001b[37m\u001b[0m \u001b[1m0s\u001b[0m 5ms/step - loss: 0.0278 - mean_squared_error: 0.0278 - val_loss: 0.0076 - val_mean_squared_error: 0.0076\n",
      "Epoch 86/100\n",
      "\u001b[1m7/7\u001b[0m \u001b[32m━━━━━━━━━━━━━━━━━━━━\u001b[0m\u001b[37m\u001b[0m \u001b[1m0s\u001b[0m 5ms/step - loss: 0.0269 - mean_squared_error: 0.0269 - val_loss: 0.0075 - val_mean_squared_error: 0.0075\n",
      "Epoch 87/100\n",
      "\u001b[1m7/7\u001b[0m \u001b[32m━━━━━━━━━━━━━━━━━━━━\u001b[0m\u001b[37m\u001b[0m \u001b[1m0s\u001b[0m 5ms/step - loss: 0.0269 - mean_squared_error: 0.0269 - val_loss: 0.0073 - val_mean_squared_error: 0.0073\n",
      "Epoch 88/100\n",
      "\u001b[1m7/7\u001b[0m \u001b[32m━━━━━━━━━━━━━━━━━━━━\u001b[0m\u001b[37m\u001b[0m \u001b[1m0s\u001b[0m 5ms/step - loss: 0.0273 - mean_squared_error: 0.0273 - val_loss: 0.0072 - val_mean_squared_error: 0.0072\n",
      "Epoch 89/100\n",
      "\u001b[1m7/7\u001b[0m \u001b[32m━━━━━━━━━━━━━━━━━━━━\u001b[0m\u001b[37m\u001b[0m \u001b[1m0s\u001b[0m 5ms/step - loss: 0.0273 - mean_squared_error: 0.0273 - val_loss: 0.0072 - val_mean_squared_error: 0.0072\n",
      "Epoch 90/100\n",
      "\u001b[1m7/7\u001b[0m \u001b[32m━━━━━━━━━━━━━━━━━━━━\u001b[0m\u001b[37m\u001b[0m \u001b[1m0s\u001b[0m 5ms/step - loss: 0.0288 - mean_squared_error: 0.0288 - val_loss: 0.0070 - val_mean_squared_error: 0.0070\n",
      "Epoch 91/100\n",
      "\u001b[1m7/7\u001b[0m \u001b[32m━━━━━━━━━━━━━━━━━━━━\u001b[0m\u001b[37m\u001b[0m \u001b[1m0s\u001b[0m 4ms/step - loss: 0.0273 - mean_squared_error: 0.0273 - val_loss: 0.0070 - val_mean_squared_error: 0.0070\n",
      "Epoch 92/100\n",
      "\u001b[1m7/7\u001b[0m \u001b[32m━━━━━━━━━━━━━━━━━━━━\u001b[0m\u001b[37m\u001b[0m \u001b[1m0s\u001b[0m 5ms/step - loss: 0.0354 - mean_squared_error: 0.0354 - val_loss: 0.0069 - val_mean_squared_error: 0.0069\n",
      "Epoch 93/100\n",
      "\u001b[1m7/7\u001b[0m \u001b[32m━━━━━━━━━━━━━━━━━━━━\u001b[0m\u001b[37m\u001b[0m \u001b[1m0s\u001b[0m 4ms/step - loss: 0.0293 - mean_squared_error: 0.0293 - val_loss: 0.0068 - val_mean_squared_error: 0.0068\n",
      "Epoch 94/100\n",
      "\u001b[1m7/7\u001b[0m \u001b[32m━━━━━━━━━━━━━━━━━━━━\u001b[0m\u001b[37m\u001b[0m \u001b[1m0s\u001b[0m 5ms/step - loss: 0.0344 - mean_squared_error: 0.0344 - val_loss: 0.0066 - val_mean_squared_error: 0.0066\n",
      "Epoch 95/100\n",
      "\u001b[1m7/7\u001b[0m \u001b[32m━━━━━━━━━━━━━━━━━━━━\u001b[0m\u001b[37m\u001b[0m \u001b[1m0s\u001b[0m 4ms/step - loss: 0.0238 - mean_squared_error: 0.0238 - val_loss: 0.0066 - val_mean_squared_error: 0.0066\n",
      "Epoch 96/100\n",
      "\u001b[1m7/7\u001b[0m \u001b[32m━━━━━━━━━━━━━━━━━━━━\u001b[0m\u001b[37m\u001b[0m \u001b[1m0s\u001b[0m 4ms/step - loss: 0.0272 - mean_squared_error: 0.0272 - val_loss: 0.0067 - val_mean_squared_error: 0.0067\n",
      "Epoch 97/100\n",
      "\u001b[1m7/7\u001b[0m \u001b[32m━━━━━━━━━━━━━━━━━━━━\u001b[0m\u001b[37m\u001b[0m \u001b[1m0s\u001b[0m 5ms/step - loss: 0.0250 - mean_squared_error: 0.0250 - val_loss: 0.0068 - val_mean_squared_error: 0.0068\n",
      "Epoch 98/100\n",
      "\u001b[1m7/7\u001b[0m \u001b[32m━━━━━━━━━━━━━━━━━━━━\u001b[0m\u001b[37m\u001b[0m \u001b[1m0s\u001b[0m 5ms/step - loss: 0.0267 - mean_squared_error: 0.0267 - val_loss: 0.0069 - val_mean_squared_error: 0.0069\n",
      "Epoch 99/100\n",
      "\u001b[1m7/7\u001b[0m \u001b[32m━━━━━━━━━━━━━━━━━━━━\u001b[0m\u001b[37m\u001b[0m \u001b[1m0s\u001b[0m 5ms/step - loss: 0.0316 - mean_squared_error: 0.0316 - val_loss: 0.0070 - val_mean_squared_error: 0.0070\n",
      "Epoch 100/100\n",
      "\u001b[1m7/7\u001b[0m \u001b[32m━━━━━━━━━━━━━━━━━━━━\u001b[0m\u001b[37m\u001b[0m \u001b[1m0s\u001b[0m 5ms/step - loss: 0.0290 - mean_squared_error: 0.0290 - val_loss: 0.0071 - val_mean_squared_error: 0.0071\n"
     ]
    }
   ],
   "source": [
    "print(x_train.shape)\n",
    "historic = model.fit(\n",
    "    x_train,\n",
    "    y_train,\n",
    "    epochs=100,\n",
    "    batch_size=50,\n",
    "    validation_data=(x_test, y_test),\n",
    "    verbose=1,\n",
    ")"
   ]
  },
  {
   "cell_type": "code",
   "execution_count": 94,
   "metadata": {},
   "outputs": [
    {
     "data": {
      "text/html": [
       "<pre style=\"white-space:pre;overflow-x:auto;line-height:normal;font-family:Menlo,'DejaVu Sans Mono',consolas,'Courier New',monospace\"><span style=\"font-weight: bold\">Model: \"sequential_13\"</span>\n",
       "</pre>\n"
      ],
      "text/plain": [
       "\u001b[1mModel: \"sequential_13\"\u001b[0m\n"
      ]
     },
     "metadata": {},
     "output_type": "display_data"
    },
    {
     "data": {
      "text/html": [
       "<pre style=\"white-space:pre;overflow-x:auto;line-height:normal;font-family:Menlo,'DejaVu Sans Mono',consolas,'Courier New',monospace\">┏━━━━━━━━━━━━━━━━━━━━━━━━━━━━━━━━━┳━━━━━━━━━━━━━━━━━━━━━━━━┳━━━━━━━━━━━━━━━┓\n",
       "┃<span style=\"font-weight: bold\"> Layer (type)                    </span>┃<span style=\"font-weight: bold\"> Output Shape           </span>┃<span style=\"font-weight: bold\">       Param # </span>┃\n",
       "┡━━━━━━━━━━━━━━━━━━━━━━━━━━━━━━━━━╇━━━━━━━━━━━━━━━━━━━━━━━━╇━━━━━━━━━━━━━━━┩\n",
       "│ dense_26 (<span style=\"color: #0087ff; text-decoration-color: #0087ff\">Dense</span>)                │ (<span style=\"color: #00d7ff; text-decoration-color: #00d7ff\">None</span>, <span style=\"color: #00af00; text-decoration-color: #00af00\">8</span>)              │            <span style=\"color: #00af00; text-decoration-color: #00af00\">64</span> │\n",
       "├─────────────────────────────────┼────────────────────────┼───────────────┤\n",
       "│ dropout_14 (<span style=\"color: #0087ff; text-decoration-color: #0087ff\">Dropout</span>)            │ (<span style=\"color: #00d7ff; text-decoration-color: #00d7ff\">None</span>, <span style=\"color: #00af00; text-decoration-color: #00af00\">8</span>)              │             <span style=\"color: #00af00; text-decoration-color: #00af00\">0</span> │\n",
       "├─────────────────────────────────┼────────────────────────┼───────────────┤\n",
       "│ dense_27 (<span style=\"color: #0087ff; text-decoration-color: #0087ff\">Dense</span>)                │ (<span style=\"color: #00d7ff; text-decoration-color: #00d7ff\">None</span>, <span style=\"color: #00af00; text-decoration-color: #00af00\">1</span>)              │             <span style=\"color: #00af00; text-decoration-color: #00af00\">9</span> │\n",
       "└─────────────────────────────────┴────────────────────────┴───────────────┘\n",
       "</pre>\n"
      ],
      "text/plain": [
       "┏━━━━━━━━━━━━━━━━━━━━━━━━━━━━━━━━━┳━━━━━━━━━━━━━━━━━━━━━━━━┳━━━━━━━━━━━━━━━┓\n",
       "┃\u001b[1m \u001b[0m\u001b[1mLayer (type)                   \u001b[0m\u001b[1m \u001b[0m┃\u001b[1m \u001b[0m\u001b[1mOutput Shape          \u001b[0m\u001b[1m \u001b[0m┃\u001b[1m \u001b[0m\u001b[1m      Param #\u001b[0m\u001b[1m \u001b[0m┃\n",
       "┡━━━━━━━━━━━━━━━━━━━━━━━━━━━━━━━━━╇━━━━━━━━━━━━━━━━━━━━━━━━╇━━━━━━━━━━━━━━━┩\n",
       "│ dense_26 (\u001b[38;5;33mDense\u001b[0m)                │ (\u001b[38;5;45mNone\u001b[0m, \u001b[38;5;34m8\u001b[0m)              │            \u001b[38;5;34m64\u001b[0m │\n",
       "├─────────────────────────────────┼────────────────────────┼───────────────┤\n",
       "│ dropout_14 (\u001b[38;5;33mDropout\u001b[0m)            │ (\u001b[38;5;45mNone\u001b[0m, \u001b[38;5;34m8\u001b[0m)              │             \u001b[38;5;34m0\u001b[0m │\n",
       "├─────────────────────────────────┼────────────────────────┼───────────────┤\n",
       "│ dense_27 (\u001b[38;5;33mDense\u001b[0m)                │ (\u001b[38;5;45mNone\u001b[0m, \u001b[38;5;34m1\u001b[0m)              │             \u001b[38;5;34m9\u001b[0m │\n",
       "└─────────────────────────────────┴────────────────────────┴───────────────┘\n"
      ]
     },
     "metadata": {},
     "output_type": "display_data"
    },
    {
     "data": {
      "text/html": [
       "<pre style=\"white-space:pre;overflow-x:auto;line-height:normal;font-family:Menlo,'DejaVu Sans Mono',consolas,'Courier New',monospace\"><span style=\"font-weight: bold\"> Total params: </span><span style=\"color: #00af00; text-decoration-color: #00af00\">221</span> (888.00 B)\n",
       "</pre>\n"
      ],
      "text/plain": [
       "\u001b[1m Total params: \u001b[0m\u001b[38;5;34m221\u001b[0m (888.00 B)\n"
      ]
     },
     "metadata": {},
     "output_type": "display_data"
    },
    {
     "data": {
      "text/html": [
       "<pre style=\"white-space:pre;overflow-x:auto;line-height:normal;font-family:Menlo,'DejaVu Sans Mono',consolas,'Courier New',monospace\"><span style=\"font-weight: bold\"> Trainable params: </span><span style=\"color: #00af00; text-decoration-color: #00af00\">73</span> (292.00 B)\n",
       "</pre>\n"
      ],
      "text/plain": [
       "\u001b[1m Trainable params: \u001b[0m\u001b[38;5;34m73\u001b[0m (292.00 B)\n"
      ]
     },
     "metadata": {},
     "output_type": "display_data"
    },
    {
     "data": {
      "text/html": [
       "<pre style=\"white-space:pre;overflow-x:auto;line-height:normal;font-family:Menlo,'DejaVu Sans Mono',consolas,'Courier New',monospace\"><span style=\"font-weight: bold\"> Non-trainable params: </span><span style=\"color: #00af00; text-decoration-color: #00af00\">0</span> (0.00 B)\n",
       "</pre>\n"
      ],
      "text/plain": [
       "\u001b[1m Non-trainable params: \u001b[0m\u001b[38;5;34m0\u001b[0m (0.00 B)\n"
      ]
     },
     "metadata": {},
     "output_type": "display_data"
    },
    {
     "data": {
      "text/html": [
       "<pre style=\"white-space:pre;overflow-x:auto;line-height:normal;font-family:Menlo,'DejaVu Sans Mono',consolas,'Courier New',monospace\"><span style=\"font-weight: bold\"> Optimizer params: </span><span style=\"color: #00af00; text-decoration-color: #00af00\">148</span> (596.00 B)\n",
       "</pre>\n"
      ],
      "text/plain": [
       "\u001b[1m Optimizer params: \u001b[0m\u001b[38;5;34m148\u001b[0m (596.00 B)\n"
      ]
     },
     "metadata": {},
     "output_type": "display_data"
    }
   ],
   "source": [
    "model.summary()"
   ]
  },
  {
   "cell_type": "code",
   "execution_count": 95,
   "metadata": {},
   "outputs": [
    {
     "name": "stdout",
     "output_type": "stream",
     "text": [
      "{'loss': [0.5529274940490723, 0.5321974158287048, 0.5119337439537048, 0.48999154567718506, 0.467428594827652, 0.4401884973049164, 0.4123181998729706, 0.37982678413391113, 0.34824249148368835, 0.3127426207065582, 0.2785499691963196, 0.24029968678951263, 0.20598427951335907, 0.17501190304756165, 0.14807477593421936, 0.1254555732011795, 0.09740952402353287, 0.0860348492860794, 0.06597041338682175, 0.051855526864528656, 0.051829006522893906, 0.03820984810590744, 0.038614388555288315, 0.04455942288041115, 0.03910414129495621, 0.04397844895720482, 0.038764361292123795, 0.03730229660868645, 0.037921465933322906, 0.036944836378097534, 0.032605063170194626, 0.036204803735017776, 0.03606375679373741, 0.036346327513456345, 0.03751394897699356, 0.03603007271885872, 0.03243357688188553, 0.03488994389772415, 0.03684084117412567, 0.03330738842487335, 0.036537326872348785, 0.030402090400457382, 0.03533149138092995, 0.03377164155244827, 0.03811532258987427, 0.03378945589065552, 0.034304965287446976, 0.02991005778312683, 0.03350169211626053, 0.03072895109653473, 0.032801128923892975, 0.030347071588039398, 0.037692420184612274, 0.02909688465297222, 0.03402415290474892, 0.03266680985689163, 0.03184117004275322, 0.03590332716703415, 0.03443840518593788, 0.037067960947752, 0.02888661064207554, 0.0288150105625391, 0.03462368994951248, 0.027937375009059906, 0.03434477746486664, 0.03241163119673729, 0.030771730467677116, 0.029773928225040436, 0.029875585809350014, 0.028662435710430145, 0.027836017310619354, 0.02620646543800831, 0.02820063941180706, 0.027376791462302208, 0.034027326852083206, 0.033661067485809326, 0.023308441042900085, 0.02669602259993553, 0.02827802672982216, 0.025473175570368767, 0.032706499099731445, 0.031118061393499374, 0.025075865909457207, 0.030168915167450905, 0.02815132960677147, 0.02911476045846939, 0.025317737832665443, 0.02579013630747795, 0.02972666546702385, 0.031158557161688805, 0.025196099653840065, 0.03411107882857323, 0.027403496205806732, 0.0314948670566082, 0.024919426068663597, 0.027451161295175552, 0.024844953790307045, 0.026071902364492416, 0.029745804145932198, 0.027991458773612976], 'mean_squared_error': [0.5529274940490723, 0.5321974158287048, 0.5119337439537048, 0.48999154567718506, 0.467428594827652, 0.4401884973049164, 0.4123181998729706, 0.37982678413391113, 0.34824249148368835, 0.3127426207065582, 0.2785499691963196, 0.24029968678951263, 0.20598427951335907, 0.17501190304756165, 0.14807477593421936, 0.1254555732011795, 0.09740952402353287, 0.0860348492860794, 0.06597041338682175, 0.051855526864528656, 0.051829006522893906, 0.03820984810590744, 0.038614388555288315, 0.04455942288041115, 0.03910414129495621, 0.04397844895720482, 0.038764361292123795, 0.03730229660868645, 0.037921465933322906, 0.036944836378097534, 0.032605063170194626, 0.036204803735017776, 0.03606375679373741, 0.036346327513456345, 0.03751394897699356, 0.03603007271885872, 0.03243357688188553, 0.03488994389772415, 0.03684084117412567, 0.03330738842487335, 0.036537326872348785, 0.030402090400457382, 0.03533149138092995, 0.03377164155244827, 0.03811532258987427, 0.03378945589065552, 0.034304965287446976, 0.02991005778312683, 0.03350169211626053, 0.03072895109653473, 0.032801128923892975, 0.030347071588039398, 0.037692420184612274, 0.02909688465297222, 0.03402415290474892, 0.03266680985689163, 0.03184117004275322, 0.03590332716703415, 0.03443840518593788, 0.037067960947752, 0.02888661064207554, 0.0288150105625391, 0.03462368994951248, 0.027937375009059906, 0.03434477746486664, 0.03241163119673729, 0.030771730467677116, 0.029773928225040436, 0.029875585809350014, 0.028662435710430145, 0.027836017310619354, 0.02620646543800831, 0.02820063941180706, 0.027376791462302208, 0.034027326852083206, 0.033661067485809326, 0.023308441042900085, 0.02669602259993553, 0.02827802672982216, 0.025473175570368767, 0.032706499099731445, 0.031118061393499374, 0.025075865909457207, 0.030168915167450905, 0.02815132960677147, 0.02911476045846939, 0.025317737832665443, 0.02579013630747795, 0.02972666546702385, 0.031158557161688805, 0.025196099653840065, 0.03411107882857323, 0.027403496205806732, 0.0314948670566082, 0.024919426068663597, 0.027451161295175552, 0.024844953790307045, 0.026071902364492416, 0.029745804145932198, 0.027991458773612976], 'val_loss': [0.5282093286514282, 0.5087447762489319, 0.48846232891082764, 0.46641454100608826, 0.44204843044281006, 0.4150379002094269, 0.3855254054069519, 0.3536490499973297, 0.31993579864501953, 0.2852344512939453, 0.24997828900814056, 0.21506957709789276, 0.18155482411384583, 0.14999260008335114, 0.12143086642026901, 0.0964517816901207, 0.07512251287698746, 0.05743320286273956, 0.04361949488520622, 0.03330282121896744, 0.025770975276827812, 0.02075887657701969, 0.017371447756886482, 0.015168070793151855, 0.01363825611770153, 0.012619500048458576, 0.012094641104340553, 0.011714939959347248, 0.0115522351115942, 0.011361384764313698, 0.01128255482763052, 0.011245260015130043, 0.011145458556711674, 0.011090205982327461, 0.011074986308813095, 0.010979587212204933, 0.010934460908174515, 0.010883452370762825, 0.010764018632471561, 0.010731253772974014, 0.010837247595191002, 0.010864201933145523, 0.010745232924818993, 0.0106367701664567, 0.010501489974558353, 0.010417713783681393, 0.010447506792843342, 0.01051318645477295, 0.010437107644975185, 0.010266443714499474, 0.01031703595072031, 0.010208251886069775, 0.009975732304155827, 0.009648401290178299, 0.009403468109667301, 0.009304645471274853, 0.009314082562923431, 0.009380382485687733, 0.009511495009064674, 0.00940637942403555, 0.009285831823945045, 0.009206090122461319, 0.009049862623214722, 0.00891011394560337, 0.008912343531847, 0.008691740222275257, 0.008585620671510696, 0.00867957342416048, 0.008666752837598324, 0.008602691814303398, 0.008611893281340599, 0.008603340946137905, 0.00867271889001131, 0.008612450212240219, 0.008517504669725895, 0.008316106162965298, 0.008401123806834221, 0.008535567671060562, 0.008580692112445831, 0.008316661231219769, 0.008038880303502083, 0.007839889265596867, 0.007813593372702599, 0.007726193871349096, 0.00763390539214015, 0.0075020939111709595, 0.007343838922679424, 0.007248233072459698, 0.007163731846958399, 0.0070173731073737144, 0.006965023465454578, 0.006903349421918392, 0.006796593777835369, 0.006636584177613258, 0.006639443803578615, 0.006693973671644926, 0.006812260020524263, 0.006921349558979273, 0.007023490499705076, 0.007127331104129553], 'val_mean_squared_error': [0.5282093286514282, 0.5087447762489319, 0.48846232891082764, 0.46641454100608826, 0.44204843044281006, 0.4150379002094269, 0.3855254054069519, 0.3536490499973297, 0.31993579864501953, 0.2852344512939453, 0.24997828900814056, 0.21506957709789276, 0.18155482411384583, 0.14999260008335114, 0.12143086642026901, 0.0964517816901207, 0.07512251287698746, 0.05743320286273956, 0.04361949488520622, 0.03330282121896744, 0.025770975276827812, 0.02075887657701969, 0.017371447756886482, 0.015168070793151855, 0.01363825611770153, 0.012619500048458576, 0.012094641104340553, 0.011714939959347248, 0.0115522351115942, 0.011361384764313698, 0.01128255482763052, 0.011245260015130043, 0.011145458556711674, 0.011090205982327461, 0.011074986308813095, 0.010979587212204933, 0.010934460908174515, 0.010883452370762825, 0.010764018632471561, 0.010731253772974014, 0.010837247595191002, 0.010864201933145523, 0.010745232924818993, 0.0106367701664567, 0.010501489974558353, 0.010417713783681393, 0.010447506792843342, 0.01051318645477295, 0.010437107644975185, 0.010266443714499474, 0.01031703595072031, 0.010208251886069775, 0.009975732304155827, 0.009648401290178299, 0.009403468109667301, 0.009304645471274853, 0.009314082562923431, 0.009380382485687733, 0.009511495009064674, 0.00940637942403555, 0.009285831823945045, 0.009206090122461319, 0.009049862623214722, 0.00891011394560337, 0.008912343531847, 0.008691740222275257, 0.008585620671510696, 0.00867957342416048, 0.008666752837598324, 0.008602691814303398, 0.008611893281340599, 0.008603340946137905, 0.00867271889001131, 0.008612450212240219, 0.008517504669725895, 0.008316106162965298, 0.008401123806834221, 0.008535567671060562, 0.008580692112445831, 0.008316661231219769, 0.008038880303502083, 0.007839889265596867, 0.007813593372702599, 0.007726193871349096, 0.00763390539214015, 0.0075020939111709595, 0.007343838922679424, 0.007248233072459698, 0.007163731846958399, 0.0070173731073737144, 0.006965023465454578, 0.006903349421918392, 0.006796593777835369, 0.006636584177613258, 0.006639443803578615, 0.006693973671644926, 0.006812260020524263, 0.006921349558979273, 0.007023490499705076, 0.007127331104129553]}\n"
     ]
    },
    {
     "data": {
      "image/png": "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",
      "text/plain": [
       "<Figure size 640x480 with 1 Axes>"
      ]
     },
     "metadata": {},
     "output_type": "display_data"
    }
   ],
   "source": [
    "import matplotlib.pyplot as plt\n",
    "\n",
    "print(historic.history)\n",
    "\n",
    "accuracy_train = historic.history[\"loss\"]\n",
    "accuracy_test = historic.history[\"val_loss\"]\n",
    "epochs = range(1, len(accuracy_train) + 1)\n",
    "\n",
    "plt.plot(epochs, accuracy_train, \"-g\", label=\"Accuracy train data\")\n",
    "plt.plot(epochs, accuracy_test, \"-b\", label=\"Accuracy test data\")\n",
    "plt.legend()\n",
    "plt.xlabel(\"Epochs\")\n",
    "plt.ylabel(\"Accuracy\")\n",
    "plt.show()"
   ]
  }
 ],
 "metadata": {
  "kernelspec": {
   "display_name": "venv",
   "language": "python",
   "name": "python3"
  },
  "language_info": {
   "codemirror_mode": {
    "name": "ipython",
    "version": 3
   },
   "file_extension": ".py",
   "mimetype": "text/x-python",
   "name": "python",
   "nbconvert_exporter": "python",
   "pygments_lexer": "ipython3",
<<<<<<< HEAD
   "version": "3.12.4"
=======
   "version": "3.12.3"
>>>>>>> ceac885f1db5cc2a7313e6f7a94f21d62d8c5838
  }
 },
 "nbformat": 4,
 "nbformat_minor": 2
}
