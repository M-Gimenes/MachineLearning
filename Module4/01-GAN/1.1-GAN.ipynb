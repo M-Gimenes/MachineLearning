{
 "cells": [
  {
   "cell_type": "code",
   "execution_count": 7,
   "metadata": {},
   "outputs": [],
   "source": [
    "# Carregando dígitos MNIST:\n",
    "from keras.datasets.mnist import load_data\n",
    "(digitos_treino, classes_treino), (digitos_teste, classes_teste) = load_data()"
   ]
  },
  {
   "cell_type": "code",
   "execution_count": 13,
   "metadata": {},
   "outputs": [
    {
     "name": "stdout",
     "output_type": "stream",
     "text": [
      "Versão do TensorFlow: 2.17.0\n",
      "GPUs disponíveis: []\n",
      "Keras está rodando na CPU.\n"
     ]
    }
   ],
   "source": [
    "import tensorflow as tf\n",
    "\n",
    "print(\"Versão do TensorFlow:\", tf.__version__)\n",
    "print(\"GPUs disponíveis:\", tf.config.list_physical_devices('GPU'))\n",
    "\n",
    "# Verifica se o TensorFlow está realmente usando a GPU\n",
    "if tf.config.list_physical_devices('GPU'):\n",
    "    print(\"Keras está rodando na GPU!\")\n",
    "else:\n",
    "    print(\"Keras está rodando na CPU.\")"
   ]
  },
  {
   "cell_type": "code",
   "execution_count": 8,
   "metadata": {},
   "outputs": [
    {
     "data": {
      "image/png": "[encoded data removed]",
      "text/plain": [
       "<Figure size 1000x1000 with 16 Axes>"
      ]
     },
     "metadata": {},
     "output_type": "display_data"
    }
   ],
   "source": [
    "# Conferindo o dataset coletado:\n",
    "import matplotlib.pyplot as plt\n",
    "\n",
    "plt.figure(figsize=(10,10))\n",
    "for i in range(16):\n",
    "    plt.subplot(4, 4, i+1)\n",
    "    plt.imshow(digitos_treino[i], cmap='gray')\n",
    "    plt.axis('off')\n",
    "plt.tight_layout()\n",
    "plt.show()"
   ]
  },
  {
   "cell_type": "code",
   "execution_count": 9,
   "metadata": {},
   "outputs": [
    {
     "data": {
      "text/plain": [
       "60000"
      ]
     },
     "execution_count": 9,
     "metadata": {},
     "output_type": "execute_result"
    }
   ],
   "source": [
    "digitos_treino.shape[0]"
   ]
  },
  {
   "cell_type": "code",
   "execution_count": 10,
   "metadata": {},
   "outputs": [],
   "source": [
    "import numpy as np\n",
    "import time\n",
    "\n",
    "from keras.models import Sequential\n",
    "from keras.layers import Dense, Activation, Flatten, Reshape\n",
    "from keras.layers import Conv2D, Conv2DTranspose, UpSampling2D\n",
    "from keras.layers import LeakyReLU, Dropout\n",
    "from keras.layers import BatchNormalization\n",
    "from keras.optimizers import Adam, RMSprop\n",
    "\n",
    "import matplotlib.pyplot as plt\n",
    "\n",
    "altura = digitos_treino.shape[1]  \n",
    "largura = digitos_treino.shape[2]\n",
    "num_channels = 1  # imagens grayscale\n",
    "\n",
    "digitos_treino = digitos_treino/127.5 - 1.0\n",
    "\n",
    "# Adicionando uma dimensão extra de profundidade (de tamanho 1, grayscale):\n",
    "x_treino = np.reshape(digitos_treino, (digitos_treino.shape[0], altura, largura, num_channels))\n",
    "\n",
    "# Normalizando os dados:\n",
    "x_treino = x_treino.astype('float32')"
   ]
  },
  {
   "cell_type": "code",
   "execution_count": 11,
   "metadata": {},
   "outputs": [],
   "source": [
    "# Criando a classe de modelos Deep Convolutional GAN:\n",
    "class Modelos_DCGAN(object):\n",
    "    def __init__(self, altura=28, largura=28, channels=1):\n",
    "\n",
    "        self.altura = altura\n",
    "        self.largura = largura\n",
    "        self.channels = channels\n",
    "        self.esqueleto_D = None  # discriminator \n",
    "        self.esqueleto_G = None # generator\n",
    "        self.modelo_A = None  # adversarial\n",
    "        self.modelo_D = None # discriminator\n",
    "\n",
    "    def esqueleto_discriminator(self):\n",
    "        if self.esqueleto_D: # se já foi criado uma vez, não precisa criar de novo\n",
    "            return self.esqueleto_D\n",
    "        \n",
    "        # Criando o esqueleto da CNN Discriminator:\n",
    "        self.esqueleto_D = Sequential()\n",
    "        dropout = 0.4\n",
    "\n",
    "        input_shape = (self.altura, self.largura, self.channels)\n",
    "        self.esqueleto_D.add(Conv2D(filters=64, kernel_size=5, strides=2, input_shape=input_shape, padding='same'))\n",
    "        self.esqueleto_D.add(LeakyReLU(alpha=0.2)) # o paper original de 2013 usa Relu, mas alguns papers mais modernos dizem que LeakyRelu funcionou melhor empiricamente, especialmente com imagens de maior resolução\n",
    "        self.esqueleto_D.add(Dropout(dropout))\n",
    "\n",
    "        self.esqueleto_D.add(Conv2D(filters=128, kernel_size=5, strides=2, padding='same'))\n",
    "        self.esqueleto_D.add(LeakyReLU(alpha=0.2))\n",
    "        self.esqueleto_D.add(Dropout(dropout))\n",
    "\n",
    "        self.esqueleto_D.add(Conv2D(filters=256, kernel_size=5, strides=2, padding='same'))\n",
    "        self.esqueleto_D.add(LeakyReLU(alpha=0.2))\n",
    "        self.esqueleto_D.add(Dropout(dropout))\n",
    "\n",
    "        self.esqueleto_D.add(Conv2D(filters=512, kernel_size=5, strides=1, padding='same'))\n",
    "        self.esqueleto_D.add(LeakyReLU(alpha=0.2))\n",
    "        self.esqueleto_D.add(Dropout(dropout))\n",
    "\n",
    "        self.esqueleto_D.add(Flatten())\n",
    "        self.esqueleto_D.add(Dense(1))\n",
    "        self.esqueleto_D.add(Activation('sigmoid'))\n",
    "        return self.esqueleto_D\n",
    "\n",
    "    def esqueleto_generator(self):\n",
    "        if self.esqueleto_G:\n",
    "            return self.esqueleto_G\n",
    "        self.esqueleto_G = Sequential()\n",
    "        dropout = 0.4\n",
    "        profundidade = 256\n",
    "        lado = 7\n",
    "        \n",
    "        # O objetivo é finalizar tudo com uma dimensão de 28 x 28 x 1\n",
    "        # Primeiro criaremos um vetor de neurônios cujo tamanho permita fazer um reshape de saída de 7 x 7 x 256\n",
    "        self.esqueleto_G.add(Dense(lado*lado*profundidade, input_dim=100)) # usa-se input_dim quando a entrada é um escalar de dimensão 1. Uma alternativa seria usar input_shape=(100,)\n",
    "        self.esqueleto_G.add(BatchNormalization(momentum=0.9))\n",
    "        self.esqueleto_G.add(Activation('relu'))\n",
    "        self.esqueleto_G.add(Reshape((lado, lado, profundidade))) # a saída atual está 7 x 7 x 256\n",
    "        self.esqueleto_G.add(Dropout(dropout))\n",
    "\n",
    "        self.esqueleto_G.add(UpSampling2D(size=(2, 2))) # a saída passou a ser 14 x 14 x 256\n",
    "        self.esqueleto_G.add(Conv2DTranspose(filters=128, kernel_size=5, padding='same')) # a saída passou a ser 14 x 14 x 128 (obs: padding='same' adiciona uma camada de zeros tal que as dimensões de saída sejam iguais às de entrada)\n",
    "        self.esqueleto_G.add(BatchNormalization(momentum=0.9))\n",
    "        self.esqueleto_G.add(Activation('relu'))\n",
    "\n",
    "        self.esqueleto_G.add(UpSampling2D()) # a saída passou a ser 28 x 28 x 128\n",
    "        self.esqueleto_G.add(Conv2DTranspose(filters=64, kernel_size=5, padding='same')) # a saída passou a ser 28 x 28 x 64\n",
    "        self.esqueleto_G.add(BatchNormalization(momentum=0.9))\n",
    "        self.esqueleto_G.add(Activation('relu'))\n",
    "\n",
    "        self.esqueleto_G.add(Conv2DTranspose(filters=32, kernel_size=5, padding='same')) # a saída passou a ser 28 x 28 x 32\n",
    "        self.esqueleto_G.add(BatchNormalization(momentum=0.9))\n",
    "        self.esqueleto_G.add(Activation('relu'))\n",
    "\n",
    "        self.esqueleto_G.add(Conv2DTranspose(filters=1, kernel_size=5, padding='same')) # a saída passou a ser 28 x 28 x 1\n",
    "        self.esqueleto_G.add(Activation('tanh')) # cada pixel de saída ficará entre o range (0, 1)\n",
    "        return self.esqueleto_G\n",
    "\n",
    "    def modelo_discriminator(self): # adiciona o otimizador e a função de custo a partir do esqueleto discriminador já montado\n",
    "        if self.modelo_D:\n",
    "            return self.modelo_D\n",
    "        optimizer = RMSprop(learning_rate=0.0002, decay=6e-8)\n",
    "        self.modelo_D = Sequential()\n",
    "        self.modelo_D.add(self.esqueleto_discriminator())\n",
    "        self.modelo_D.compile(loss='binary_crossentropy', optimizer=optimizer, metrics=['accuracy'])\n",
    "        return self.modelo_D # Modelo Discriminator pronto, recebe uma entrada 28 x 28 x 1 e retorna uma prob. entre 0 e 1\n",
    "\n",
    "    def modelo_adversarial(self): # adiciona o otimizador e a função de custo a partir dos esqueletos generator e discriminator\n",
    "        if self.modelo_A:\n",
    "            return self.modelo_A\n",
    "        optimizer = RMSprop(learning_rate=0.0001, decay=3e-8)\n",
    "        self.modelo_A = Sequential()\n",
    "        self.modelo_A.add(self.esqueleto_generator())\n",
    "        self.modelo_A.add(self.esqueleto_discriminator())\n",
    "        self.modelo_A.compile(loss='binary_crossentropy', optimizer=optimizer, metrics=['accuracy'])\n",
    "        return self.modelo_A\n",
    "\n",
    "# Criando a classe DCGAN completa:\n",
    "class DCGAN(object):\n",
    "    def __init__(self, altura=28, largura=28, channels=1, x_treino=None):\n",
    "        self.altura = altura\n",
    "        self.largura = largura\n",
    "        self.channels = channels\n",
    "\n",
    "        self.x_treino = x_treino\n",
    "\n",
    "        self.modelos_DCGAN = Modelos_DCGAN(altura=altura, largura=largura, channels=channels)\n",
    "        self.discriminator =  self.modelos_DCGAN.modelo_discriminator()\n",
    "        self.adversarial = self.modelos_DCGAN.modelo_adversarial()\n",
    "        self.generator = self.modelos_DCGAN.esqueleto_generator()\n",
    "        \n",
    "    # Função que congela os pesos do discriminator durante o treinamento:\n",
    "    def discriminator_trainable(self, val): # recebe True ou False\n",
    "        self.discriminator.trainable = val\n",
    "        for l in self.discriminator.layers:\n",
    "            l.trainable = val\n",
    "\n",
    "    # Função que realiza os treinamentos de ambos os modelos:\n",
    "    def train(self, train_steps=5000, batch_size=250, intervalo_mostra_imagens=1000):\n",
    "\n",
    "        for i in range(train_steps):\n",
    "            imagens_reais = self.x_treino[np.random.randint(0, self.x_treino.shape[0], size=batch_size), :, :, :] # selecionando aleatoriamente imagens de x_treino, uma quantidade batch_size de imagens\n",
    "            ruidos = np.random.uniform(-1.0, 1.0, size=[batch_size, 100]) # criando uma quantidade batch_size de ruídos\n",
    "            imagens_fake = self.generator.predict(ruidos) # passando cada um desses ruídos pelo modelo generator para criar as imagens fake\n",
    "            x = np.concatenate((imagens_reais, imagens_fake)) # agrupando ambas as imagens reais e fake em uma única variável\n",
    "            \n",
    "            # Criando um vetor y do tamanho de x com 1's e 0's (as imagens reais serão marcadas com 1 e as fake com 0):\n",
    "            y = np.ones([2*batch_size, 1])  \n",
    "            y[batch_size:, :] = 0\n",
    "            \n",
    "            # Treinando a rede discriminadora e coletando seu loss atual:\n",
    "            self.discriminator_trainable(True)\n",
    "            loss_discriminator = self.discriminator.train_on_batch(x, y) # treina a rede discriminadora no conjunto de dados informado, retornando o loss\n",
    "\n",
    "            # Treinando a rede adversarial e coletando seu loss atual:\n",
    "            y = np.ones([batch_size, 1])\n",
    "            ruidos = np.random.uniform(-1.0, 1.0, size=[batch_size, 100])\n",
    "            self.discriminator_trainable(False)\n",
    "            loss_adversarial = self.adversarial.train_on_batch(ruidos, y)\n",
    "            \n",
    "            # Mostrando na tela a evolução do treinamento (loss e acurácia de ambos os modelos):\n",
    "            if i%100==0:    \n",
    "                print('%d: [Discriminator loss: %f, acc: %f]   [Adversarial loss: %f, acc: %f]'  % (i, loss_discriminator[0], \n",
    "                                                                                                loss_discriminator[1], \n",
    "                                                                                                loss_adversarial[0], \n",
    "                                                                                                loss_adversarial[1]))\n",
    "            # Mostrando na tela algumas imagens fake geradas:\n",
    "            if (i+1)%intervalo_mostra_imagens==0:\n",
    "                ruido_de_entrada = np.random.uniform(-1.0, 1.0, size=[16, 100]) # criando num_amostras de ruído para mostrar na tela\n",
    "                self.plot_images(num_amostras=ruido_de_entrada.shape[0], noise=ruido_de_entrada)\n",
    "\n",
    "    # Função que plota imagens reais ou fake na tela:\n",
    "    def plot_images(self, fake=True, num_amostras=16, noise=None):\n",
    "        if fake: # se quer mostrar imagens fake geradas:\n",
    "            if noise is None:\n",
    "                noise = np.random.uniform(-1.0, 1.0, size=[num_amostras, 100])\n",
    "            imagens = self.generator.predict(noise)\n",
    "        else: # se quer mostrar imagens reais, mostre aleatoriamente num_amostras imagens reais de x_treino:\n",
    "            i = np.random.randint(0, self.x_treino.shape[0], num_amostras)\n",
    "            imagens = self.x_treino[i, :, :, :]\n",
    "\n",
    "        # Mostrando as imagens com subplot:\n",
    "        plt.figure(figsize=(10,10))\n",
    "        for i in range(imagens.shape[0]):\n",
    "            plt.subplot(4, 4, i+1)\n",
    "            imagem = imagens[i, :, :, :]\n",
    "            imagem = np.reshape(imagem, [self.altura, self.largura]) # coloca a imagem em duas dimensões somente\n",
    "            imagem = (imagem+1)*127.5\n",
    "            plt.imshow(imagem, cmap='gray')\n",
    "            plt.axis('off')\n",
    "        plt.tight_layout()\n",
    "        plt.show()"
   ]
  },
  {
   "cell_type": "code",
   "execution_count": 12,
   "metadata": {},
   "outputs": [
    {
     "name": "stderr",
     "output_type": "stream",
     "text": [
      "c:\\Users\\Matheus\\Desktop\\Matheus\\Programming\\Python\\MachineLearning\\venv\\Lib\\site-packages\\keras\\src\\optimizers\\base_optimizer.py:33: UserWarning: Argument `decay` is no longer supported and will be ignored.\n",
      "  warnings.warn(\n",
      "c:\\Users\\Matheus\\Desktop\\Matheus\\Programming\\Python\\MachineLearning\\venv\\Lib\\site-packages\\keras\\src\\layers\\convolutional\\base_conv.py:107: UserWarning: Do not pass an `input_shape`/`input_dim` argument to a layer. When using Sequential models, prefer using an `Input(shape)` object as the first layer in the model instead.\n",
      "  super().__init__(activity_regularizer=activity_regularizer, **kwargs)\n",
      "c:\\Users\\Matheus\\Desktop\\Matheus\\Programming\\Python\\MachineLearning\\venv\\Lib\\site-packages\\keras\\src\\layers\\activations\\leaky_relu.py:41: UserWarning: Argument `alpha` is deprecated. Use `negative_slope` instead.\n",
      "  warnings.warn(\n",
      "c:\\Users\\Matheus\\Desktop\\Matheus\\Programming\\Python\\MachineLearning\\venv\\Lib\\site-packages\\keras\\src\\layers\\core\\dense.py:87: UserWarning: Do not pass an `input_shape`/`input_dim` argument to a layer. When using Sequential models, prefer using an `Input(shape)` object as the first layer in the model instead.\n",
      "  super().__init__(activity_regularizer=activity_regularizer, **kwargs)\n"
     ]
    },
    {
     "name": "stdout",
     "output_type": "stream",
     "text": [
      "\u001b[1m8/8\u001b[0m \u001b[32m━━━━━━━━━━━━━━━━━━━━\u001b[0m\u001b[37m\u001b[0m \u001b[1m1s\u001b[0m 56ms/step\n",
      "0: [Discriminator loss: 0.698149, acc: 0.488281]   [Adversarial loss: 0.601221, acc: 1.000000]\n",
      "\u001b[1m8/8\u001b[0m \u001b[32m━━━━━━━━━━━━━━━━━━━━\u001b[0m\u001b[37m\u001b[0m \u001b[1m1s\u001b[0m 62ms/step\n",
      "\u001b[1m8/8\u001b[0m \u001b[32m━━━━━━━━━━━━━━━━━━━━\u001b[0m\u001b[37m\u001b[0m \u001b[1m0s\u001b[0m 56ms/step\n",
      "WARNING:tensorflow:5 out of the last 5 calls to <function TensorFlowTrainer.make_train_function.<locals>.one_step_on_iterator at 0x000002C9A0BBFD80> triggered tf.function retracing. Tracing is expensive and the excessive number of tracings could be due to (1) creating @tf.function repeatedly in a loop, (2) passing tensors with different shapes, (3) passing Python objects instead of tensors. For (1), please define your @tf.function outside of the loop. For (2), @tf.function has reduce_retracing=True option that can avoid unnecessary retracing. For (3), please refer to https://www.tensorflow.org/guide/function#controlling_retracing and https://www.tensorflow.org/api_docs/python/tf/function for  more details.\n",
      "WARNING:tensorflow:6 out of the last 6 calls to <function TensorFlowTrainer.make_train_function.<locals>.one_step_on_iterator at 0x000002C9A16671A0> triggered tf.function retracing. Tracing is expensive and the excessive number of tracings could be due to (1) creating @tf.function repeatedly in a loop, (2) passing tensors with different shapes, (3) passing Python objects instead of tensors. For (1), please define your @tf.function outside of the loop. For (2), @tf.function has reduce_retracing=True option that can avoid unnecessary retracing. For (3), please refer to https://www.tensorflow.org/guide/function#controlling_retracing and https://www.tensorflow.org/api_docs/python/tf/function for  more details.\n",
      "\u001b[1m8/8\u001b[0m \u001b[32m━━━━━━━━━━━━━━━━━━━━\u001b[0m\u001b[37m\u001b[0m \u001b[1m0s\u001b[0m 59ms/step\n",
      "\u001b[1m8/8\u001b[0m \u001b[32m━━━━━━━━━━━━━━━━━━━━\u001b[0m\u001b[37m\u001b[0m \u001b[1m0s\u001b[0m 57ms/step\n",
      "\u001b[1m8/8\u001b[0m \u001b[32m━━━━━━━━━━━━━━━━━━━━\u001b[0m\u001b[37m\u001b[0m \u001b[1m1s\u001b[0m 65ms/step\n",
      "\u001b[1m8/8\u001b[0m \u001b[32m━━━━━━━━━━━━━━━━━━━━\u001b[0m\u001b[37m\u001b[0m \u001b[1m1s\u001b[0m 58ms/step\n",
      "\u001b[1m8/8\u001b[0m \u001b[32m━━━━━━━━━━━━━━━━━━━━\u001b[0m\u001b[37m\u001b[0m \u001b[1m1s\u001b[0m 58ms/step\n"
     ]
    },
    {
     "ename": "KeyboardInterrupt",
     "evalue": "",
     "output_type": "error",
     "traceback": [
      "\u001b[1;31m---------------------------------------------------------------------------\u001b[0m",
      "\u001b[1;31mKeyboardInterrupt\u001b[0m                         Traceback (most recent call last)",
      "Cell \u001b[1;32mIn[12], line 4\u001b[0m\n\u001b[0;32m      1\u001b[0m \u001b[38;5;66;03m# Rodando o modelo:\u001b[39;00m\n\u001b[0;32m      3\u001b[0m gan \u001b[38;5;241m=\u001b[39m DCGAN(altura\u001b[38;5;241m=\u001b[39m\u001b[38;5;241m28\u001b[39m, largura\u001b[38;5;241m=\u001b[39m\u001b[38;5;241m28\u001b[39m, channels\u001b[38;5;241m=\u001b[39m\u001b[38;5;241m1\u001b[39m, x_treino\u001b[38;5;241m=\u001b[39mx_treino) \u001b[38;5;66;03m# instanciando a classe\u001b[39;00m\n\u001b[1;32m----> 4\u001b[0m \u001b[43mgan\u001b[49m\u001b[38;5;241;43m.\u001b[39;49m\u001b[43mtrain\u001b[49m\u001b[43m(\u001b[49m\u001b[43mtrain_steps\u001b[49m\u001b[38;5;241;43m=\u001b[39;49m\u001b[38;5;241;43m10000\u001b[39;49m\u001b[43m,\u001b[49m\u001b[43m \u001b[49m\u001b[43mbatch_size\u001b[49m\u001b[38;5;241;43m=\u001b[39;49m\u001b[38;5;241;43m256\u001b[39;49m\u001b[43m,\u001b[49m\u001b[43m \u001b[49m\u001b[43mintervalo_mostra_imagens\u001b[49m\u001b[38;5;241;43m=\u001b[39;49m\u001b[38;5;241;43m1000\u001b[39;49m\u001b[43m)\u001b[49m \u001b[38;5;66;03m# treinando\u001b[39;00m\n",
      "Cell \u001b[1;32mIn[11], line 137\u001b[0m, in \u001b[0;36mDCGAN.train\u001b[1;34m(self, train_steps, batch_size, intervalo_mostra_imagens)\u001b[0m\n\u001b[0;32m    135\u001b[0m ruidos \u001b[38;5;241m=\u001b[39m np\u001b[38;5;241m.\u001b[39mrandom\u001b[38;5;241m.\u001b[39muniform(\u001b[38;5;241m-\u001b[39m\u001b[38;5;241m1.0\u001b[39m, \u001b[38;5;241m1.0\u001b[39m, size\u001b[38;5;241m=\u001b[39m[batch_size, \u001b[38;5;241m100\u001b[39m])\n\u001b[0;32m    136\u001b[0m \u001b[38;5;28mself\u001b[39m\u001b[38;5;241m.\u001b[39mdiscriminator_trainable(\u001b[38;5;28;01mFalse\u001b[39;00m)\n\u001b[1;32m--> 137\u001b[0m loss_adversarial \u001b[38;5;241m=\u001b[39m \u001b[38;5;28;43mself\u001b[39;49m\u001b[38;5;241;43m.\u001b[39;49m\u001b[43madversarial\u001b[49m\u001b[38;5;241;43m.\u001b[39;49m\u001b[43mtrain_on_batch\u001b[49m\u001b[43m(\u001b[49m\u001b[43mruidos\u001b[49m\u001b[43m,\u001b[49m\u001b[43m \u001b[49m\u001b[43my\u001b[49m\u001b[43m)\u001b[49m\n\u001b[0;32m    139\u001b[0m \u001b[38;5;66;03m# Mostrando na tela a evolução do treinamento (loss e acurácia de ambos os modelos):\u001b[39;00m\n\u001b[0;32m    140\u001b[0m \u001b[38;5;28;01mif\u001b[39;00m i\u001b[38;5;241m%\u001b[39m\u001b[38;5;241m100\u001b[39m\u001b[38;5;241m==\u001b[39m\u001b[38;5;241m0\u001b[39m:    \n",
      "File \u001b[1;32mc:\\Users\\Matheus\\Desktop\\Matheus\\Programming\\Python\\MachineLearning\\venv\\Lib\\site-packages\\keras\\src\\backend\\tensorflow\\trainer.py:551\u001b[0m, in \u001b[0;36mTensorFlowTrainer.train_on_batch\u001b[1;34m(self, x, y, sample_weight, class_weight, return_dict)\u001b[0m\n\u001b[0;32m    548\u001b[0m \u001b[38;5;28;01mdef\u001b[39;00m \u001b[38;5;21mdata\u001b[39m():\n\u001b[0;32m    549\u001b[0m     \u001b[38;5;28;01myield\u001b[39;00m (x, y, sample_weight)\n\u001b[1;32m--> 551\u001b[0m logs \u001b[38;5;241m=\u001b[39m \u001b[38;5;28;43mself\u001b[39;49m\u001b[38;5;241;43m.\u001b[39;49m\u001b[43mtrain_function\u001b[49m\u001b[43m(\u001b[49m\u001b[43mdata\u001b[49m\u001b[43m(\u001b[49m\u001b[43m)\u001b[49m\u001b[43m)\u001b[49m\n\u001b[0;32m    552\u001b[0m logs \u001b[38;5;241m=\u001b[39m tree\u001b[38;5;241m.\u001b[39mmap_structure(\u001b[38;5;28;01mlambda\u001b[39;00m x: np\u001b[38;5;241m.\u001b[39marray(x), logs)\n\u001b[0;32m    553\u001b[0m \u001b[38;5;28;01mif\u001b[39;00m return_dict:\n",
      "File \u001b[1;32mc:\\Users\\Matheus\\Desktop\\Matheus\\Programming\\Python\\MachineLearning\\venv\\Lib\\site-packages\\tensorflow\\python\\util\\traceback_utils.py:150\u001b[0m, in \u001b[0;36mfilter_traceback.<locals>.error_handler\u001b[1;34m(*args, **kwargs)\u001b[0m\n\u001b[0;32m    148\u001b[0m filtered_tb \u001b[38;5;241m=\u001b[39m \u001b[38;5;28;01mNone\u001b[39;00m\n\u001b[0;32m    149\u001b[0m \u001b[38;5;28;01mtry\u001b[39;00m:\n\u001b[1;32m--> 150\u001b[0m   \u001b[38;5;28;01mreturn\u001b[39;00m \u001b[43mfn\u001b[49m\u001b[43m(\u001b[49m\u001b[38;5;241;43m*\u001b[39;49m\u001b[43margs\u001b[49m\u001b[43m,\u001b[49m\u001b[43m \u001b[49m\u001b[38;5;241;43m*\u001b[39;49m\u001b[38;5;241;43m*\u001b[39;49m\u001b[43mkwargs\u001b[49m\u001b[43m)\u001b[49m\n\u001b[0;32m    151\u001b[0m \u001b[38;5;28;01mexcept\u001b[39;00m \u001b[38;5;167;01mException\u001b[39;00m \u001b[38;5;28;01mas\u001b[39;00m e:\n\u001b[0;32m    152\u001b[0m   filtered_tb \u001b[38;5;241m=\u001b[39m _process_traceback_frames(e\u001b[38;5;241m.\u001b[39m__traceback__)\n",
      "File \u001b[1;32mc:\\Users\\Matheus\\Desktop\\Matheus\\Programming\\Python\\MachineLearning\\venv\\Lib\\site-packages\\tensorflow\\python\\eager\\polymorphic_function\\polymorphic_function.py:833\u001b[0m, in \u001b[0;36mFunction.__call__\u001b[1;34m(self, *args, **kwds)\u001b[0m\n\u001b[0;32m    830\u001b[0m compiler \u001b[38;5;241m=\u001b[39m \u001b[38;5;124m\"\u001b[39m\u001b[38;5;124mxla\u001b[39m\u001b[38;5;124m\"\u001b[39m \u001b[38;5;28;01mif\u001b[39;00m \u001b[38;5;28mself\u001b[39m\u001b[38;5;241m.\u001b[39m_jit_compile \u001b[38;5;28;01melse\u001b[39;00m \u001b[38;5;124m\"\u001b[39m\u001b[38;5;124mnonXla\u001b[39m\u001b[38;5;124m\"\u001b[39m\n\u001b[0;32m    832\u001b[0m \u001b[38;5;28;01mwith\u001b[39;00m OptionalXlaContext(\u001b[38;5;28mself\u001b[39m\u001b[38;5;241m.\u001b[39m_jit_compile):\n\u001b[1;32m--> 833\u001b[0m   result \u001b[38;5;241m=\u001b[39m \u001b[38;5;28;43mself\u001b[39;49m\u001b[38;5;241;43m.\u001b[39;49m\u001b[43m_call\u001b[49m\u001b[43m(\u001b[49m\u001b[38;5;241;43m*\u001b[39;49m\u001b[43margs\u001b[49m\u001b[43m,\u001b[49m\u001b[43m \u001b[49m\u001b[38;5;241;43m*\u001b[39;49m\u001b[38;5;241;43m*\u001b[39;49m\u001b[43mkwds\u001b[49m\u001b[43m)\u001b[49m\n\u001b[0;32m    835\u001b[0m new_tracing_count \u001b[38;5;241m=\u001b[39m \u001b[38;5;28mself\u001b[39m\u001b[38;5;241m.\u001b[39mexperimental_get_tracing_count()\n\u001b[0;32m    836\u001b[0m without_tracing \u001b[38;5;241m=\u001b[39m (tracing_count \u001b[38;5;241m==\u001b[39m new_tracing_count)\n",
      "File \u001b[1;32mc:\\Users\\Matheus\\Desktop\\Matheus\\Programming\\Python\\MachineLearning\\venv\\Lib\\site-packages\\tensorflow\\python\\eager\\polymorphic_function\\polymorphic_function.py:878\u001b[0m, in \u001b[0;36mFunction._call\u001b[1;34m(self, *args, **kwds)\u001b[0m\n\u001b[0;32m    875\u001b[0m \u001b[38;5;28mself\u001b[39m\u001b[38;5;241m.\u001b[39m_lock\u001b[38;5;241m.\u001b[39mrelease()\n\u001b[0;32m    876\u001b[0m \u001b[38;5;66;03m# In this case we have not created variables on the first call. So we can\u001b[39;00m\n\u001b[0;32m    877\u001b[0m \u001b[38;5;66;03m# run the first trace but we should fail if variables are created.\u001b[39;00m\n\u001b[1;32m--> 878\u001b[0m results \u001b[38;5;241m=\u001b[39m \u001b[43mtracing_compilation\u001b[49m\u001b[38;5;241;43m.\u001b[39;49m\u001b[43mcall_function\u001b[49m\u001b[43m(\u001b[49m\n\u001b[0;32m    879\u001b[0m \u001b[43m    \u001b[49m\u001b[43margs\u001b[49m\u001b[43m,\u001b[49m\u001b[43m \u001b[49m\u001b[43mkwds\u001b[49m\u001b[43m,\u001b[49m\u001b[43m \u001b[49m\u001b[38;5;28;43mself\u001b[39;49m\u001b[38;5;241;43m.\u001b[39;49m\u001b[43m_variable_creation_config\u001b[49m\n\u001b[0;32m    880\u001b[0m \u001b[43m\u001b[49m\u001b[43m)\u001b[49m\n\u001b[0;32m    881\u001b[0m \u001b[38;5;28;01mif\u001b[39;00m \u001b[38;5;28mself\u001b[39m\u001b[38;5;241m.\u001b[39m_created_variables:\n\u001b[0;32m    882\u001b[0m   \u001b[38;5;28;01mraise\u001b[39;00m \u001b[38;5;167;01mValueError\u001b[39;00m(\u001b[38;5;124m\"\u001b[39m\u001b[38;5;124mCreating variables on a non-first call to a function\u001b[39m\u001b[38;5;124m\"\u001b[39m\n\u001b[0;32m    883\u001b[0m                    \u001b[38;5;124m\"\u001b[39m\u001b[38;5;124m decorated with tf.function.\u001b[39m\u001b[38;5;124m\"\u001b[39m)\n",
      "File \u001b[1;32mc:\\Users\\Matheus\\Desktop\\Matheus\\Programming\\Python\\MachineLearning\\venv\\Lib\\site-packages\\tensorflow\\python\\eager\\polymorphic_function\\tracing_compilation.py:139\u001b[0m, in \u001b[0;36mcall_function\u001b[1;34m(args, kwargs, tracing_options)\u001b[0m\n\u001b[0;32m    137\u001b[0m bound_args \u001b[38;5;241m=\u001b[39m function\u001b[38;5;241m.\u001b[39mfunction_type\u001b[38;5;241m.\u001b[39mbind(\u001b[38;5;241m*\u001b[39margs, \u001b[38;5;241m*\u001b[39m\u001b[38;5;241m*\u001b[39mkwargs)\n\u001b[0;32m    138\u001b[0m flat_inputs \u001b[38;5;241m=\u001b[39m function\u001b[38;5;241m.\u001b[39mfunction_type\u001b[38;5;241m.\u001b[39munpack_inputs(bound_args)\n\u001b[1;32m--> 139\u001b[0m \u001b[38;5;28;01mreturn\u001b[39;00m \u001b[43mfunction\u001b[49m\u001b[38;5;241;43m.\u001b[39;49m\u001b[43m_call_flat\u001b[49m\u001b[43m(\u001b[49m\u001b[43m  \u001b[49m\u001b[38;5;66;43;03m# pylint: disable=protected-access\u001b[39;49;00m\n\u001b[0;32m    140\u001b[0m \u001b[43m    \u001b[49m\u001b[43mflat_inputs\u001b[49m\u001b[43m,\u001b[49m\u001b[43m \u001b[49m\u001b[43mcaptured_inputs\u001b[49m\u001b[38;5;241;43m=\u001b[39;49m\u001b[43mfunction\u001b[49m\u001b[38;5;241;43m.\u001b[39;49m\u001b[43mcaptured_inputs\u001b[49m\n\u001b[0;32m    141\u001b[0m \u001b[43m\u001b[49m\u001b[43m)\u001b[49m\n",
      "File \u001b[1;32mc:\\Users\\Matheus\\Desktop\\Matheus\\Programming\\Python\\MachineLearning\\venv\\Lib\\site-packages\\tensorflow\\python\\eager\\polymorphic_function\\concrete_function.py:1322\u001b[0m, in \u001b[0;36mConcreteFunction._call_flat\u001b[1;34m(self, tensor_inputs, captured_inputs)\u001b[0m\n\u001b[0;32m   1318\u001b[0m possible_gradient_type \u001b[38;5;241m=\u001b[39m gradients_util\u001b[38;5;241m.\u001b[39mPossibleTapeGradientTypes(args)\n\u001b[0;32m   1319\u001b[0m \u001b[38;5;28;01mif\u001b[39;00m (possible_gradient_type \u001b[38;5;241m==\u001b[39m gradients_util\u001b[38;5;241m.\u001b[39mPOSSIBLE_GRADIENT_TYPES_NONE\n\u001b[0;32m   1320\u001b[0m     \u001b[38;5;129;01mand\u001b[39;00m executing_eagerly):\n\u001b[0;32m   1321\u001b[0m   \u001b[38;5;66;03m# No tape is watching; skip to running the function.\u001b[39;00m\n\u001b[1;32m-> 1322\u001b[0m   \u001b[38;5;28;01mreturn\u001b[39;00m \u001b[38;5;28;43mself\u001b[39;49m\u001b[38;5;241;43m.\u001b[39;49m\u001b[43m_inference_function\u001b[49m\u001b[38;5;241;43m.\u001b[39;49m\u001b[43mcall_preflattened\u001b[49m\u001b[43m(\u001b[49m\u001b[43margs\u001b[49m\u001b[43m)\u001b[49m\n\u001b[0;32m   1323\u001b[0m forward_backward \u001b[38;5;241m=\u001b[39m \u001b[38;5;28mself\u001b[39m\u001b[38;5;241m.\u001b[39m_select_forward_and_backward_functions(\n\u001b[0;32m   1324\u001b[0m     args,\n\u001b[0;32m   1325\u001b[0m     possible_gradient_type,\n\u001b[0;32m   1326\u001b[0m     executing_eagerly)\n\u001b[0;32m   1327\u001b[0m forward_function, args_with_tangents \u001b[38;5;241m=\u001b[39m forward_backward\u001b[38;5;241m.\u001b[39mforward()\n",
      "File \u001b[1;32mc:\\Users\\Matheus\\Desktop\\Matheus\\Programming\\Python\\MachineLearning\\venv\\Lib\\site-packages\\tensorflow\\python\\eager\\polymorphic_function\\atomic_function.py:216\u001b[0m, in \u001b[0;36mAtomicFunction.call_preflattened\u001b[1;34m(self, args)\u001b[0m\n\u001b[0;32m    214\u001b[0m \u001b[38;5;28;01mdef\u001b[39;00m \u001b[38;5;21mcall_preflattened\u001b[39m(\u001b[38;5;28mself\u001b[39m, args: Sequence[core\u001b[38;5;241m.\u001b[39mTensor]) \u001b[38;5;241m-\u001b[39m\u001b[38;5;241m>\u001b[39m Any:\n\u001b[0;32m    215\u001b[0m \u001b[38;5;250m  \u001b[39m\u001b[38;5;124;03m\"\"\"Calls with flattened tensor inputs and returns the structured output.\"\"\"\u001b[39;00m\n\u001b[1;32m--> 216\u001b[0m   flat_outputs \u001b[38;5;241m=\u001b[39m \u001b[38;5;28;43mself\u001b[39;49m\u001b[38;5;241;43m.\u001b[39;49m\u001b[43mcall_flat\u001b[49m\u001b[43m(\u001b[49m\u001b[38;5;241;43m*\u001b[39;49m\u001b[43margs\u001b[49m\u001b[43m)\u001b[49m\n\u001b[0;32m    217\u001b[0m   \u001b[38;5;28;01mreturn\u001b[39;00m \u001b[38;5;28mself\u001b[39m\u001b[38;5;241m.\u001b[39mfunction_type\u001b[38;5;241m.\u001b[39mpack_output(flat_outputs)\n",
      "File \u001b[1;32mc:\\Users\\Matheus\\Desktop\\Matheus\\Programming\\Python\\MachineLearning\\venv\\Lib\\site-packages\\tensorflow\\python\\eager\\polymorphic_function\\atomic_function.py:251\u001b[0m, in \u001b[0;36mAtomicFunction.call_flat\u001b[1;34m(self, *args)\u001b[0m\n\u001b[0;32m    249\u001b[0m \u001b[38;5;28;01mwith\u001b[39;00m record\u001b[38;5;241m.\u001b[39mstop_recording():\n\u001b[0;32m    250\u001b[0m   \u001b[38;5;28;01mif\u001b[39;00m \u001b[38;5;28mself\u001b[39m\u001b[38;5;241m.\u001b[39m_bound_context\u001b[38;5;241m.\u001b[39mexecuting_eagerly():\n\u001b[1;32m--> 251\u001b[0m     outputs \u001b[38;5;241m=\u001b[39m \u001b[38;5;28;43mself\u001b[39;49m\u001b[38;5;241;43m.\u001b[39;49m\u001b[43m_bound_context\u001b[49m\u001b[38;5;241;43m.\u001b[39;49m\u001b[43mcall_function\u001b[49m\u001b[43m(\u001b[49m\n\u001b[0;32m    252\u001b[0m \u001b[43m        \u001b[49m\u001b[38;5;28;43mself\u001b[39;49m\u001b[38;5;241;43m.\u001b[39;49m\u001b[43mname\u001b[49m\u001b[43m,\u001b[49m\n\u001b[0;32m    253\u001b[0m \u001b[43m        \u001b[49m\u001b[38;5;28;43mlist\u001b[39;49m\u001b[43m(\u001b[49m\u001b[43margs\u001b[49m\u001b[43m)\u001b[49m\u001b[43m,\u001b[49m\n\u001b[0;32m    254\u001b[0m \u001b[43m        \u001b[49m\u001b[38;5;28;43mlen\u001b[39;49m\u001b[43m(\u001b[49m\u001b[38;5;28;43mself\u001b[39;49m\u001b[38;5;241;43m.\u001b[39;49m\u001b[43mfunction_type\u001b[49m\u001b[38;5;241;43m.\u001b[39;49m\u001b[43mflat_outputs\u001b[49m\u001b[43m)\u001b[49m\u001b[43m,\u001b[49m\n\u001b[0;32m    255\u001b[0m \u001b[43m    \u001b[49m\u001b[43m)\u001b[49m\n\u001b[0;32m    256\u001b[0m   \u001b[38;5;28;01melse\u001b[39;00m:\n\u001b[0;32m    257\u001b[0m     outputs \u001b[38;5;241m=\u001b[39m make_call_op_in_graph(\n\u001b[0;32m    258\u001b[0m         \u001b[38;5;28mself\u001b[39m,\n\u001b[0;32m    259\u001b[0m         \u001b[38;5;28mlist\u001b[39m(args),\n\u001b[0;32m    260\u001b[0m         \u001b[38;5;28mself\u001b[39m\u001b[38;5;241m.\u001b[39m_bound_context\u001b[38;5;241m.\u001b[39mfunction_call_options\u001b[38;5;241m.\u001b[39mas_attrs(),\n\u001b[0;32m    261\u001b[0m     )\n",
      "File \u001b[1;32mc:\\Users\\Matheus\\Desktop\\Matheus\\Programming\\Python\\MachineLearning\\venv\\Lib\\site-packages\\tensorflow\\python\\eager\\context.py:1552\u001b[0m, in \u001b[0;36mContext.call_function\u001b[1;34m(self, name, tensor_inputs, num_outputs)\u001b[0m\n\u001b[0;32m   1550\u001b[0m cancellation_context \u001b[38;5;241m=\u001b[39m cancellation\u001b[38;5;241m.\u001b[39mcontext()\n\u001b[0;32m   1551\u001b[0m \u001b[38;5;28;01mif\u001b[39;00m cancellation_context \u001b[38;5;129;01mis\u001b[39;00m \u001b[38;5;28;01mNone\u001b[39;00m:\n\u001b[1;32m-> 1552\u001b[0m   outputs \u001b[38;5;241m=\u001b[39m \u001b[43mexecute\u001b[49m\u001b[38;5;241;43m.\u001b[39;49m\u001b[43mexecute\u001b[49m\u001b[43m(\u001b[49m\n\u001b[0;32m   1553\u001b[0m \u001b[43m      \u001b[49m\u001b[43mname\u001b[49m\u001b[38;5;241;43m.\u001b[39;49m\u001b[43mdecode\u001b[49m\u001b[43m(\u001b[49m\u001b[38;5;124;43m\"\u001b[39;49m\u001b[38;5;124;43mutf-8\u001b[39;49m\u001b[38;5;124;43m\"\u001b[39;49m\u001b[43m)\u001b[49m\u001b[43m,\u001b[49m\n\u001b[0;32m   1554\u001b[0m \u001b[43m      \u001b[49m\u001b[43mnum_outputs\u001b[49m\u001b[38;5;241;43m=\u001b[39;49m\u001b[43mnum_outputs\u001b[49m\u001b[43m,\u001b[49m\n\u001b[0;32m   1555\u001b[0m \u001b[43m      \u001b[49m\u001b[43minputs\u001b[49m\u001b[38;5;241;43m=\u001b[39;49m\u001b[43mtensor_inputs\u001b[49m\u001b[43m,\u001b[49m\n\u001b[0;32m   1556\u001b[0m \u001b[43m      \u001b[49m\u001b[43mattrs\u001b[49m\u001b[38;5;241;43m=\u001b[39;49m\u001b[43mattrs\u001b[49m\u001b[43m,\u001b[49m\n\u001b[0;32m   1557\u001b[0m \u001b[43m      \u001b[49m\u001b[43mctx\u001b[49m\u001b[38;5;241;43m=\u001b[39;49m\u001b[38;5;28;43mself\u001b[39;49m\u001b[43m,\u001b[49m\n\u001b[0;32m   1558\u001b[0m \u001b[43m  \u001b[49m\u001b[43m)\u001b[49m\n\u001b[0;32m   1559\u001b[0m \u001b[38;5;28;01melse\u001b[39;00m:\n\u001b[0;32m   1560\u001b[0m   outputs \u001b[38;5;241m=\u001b[39m execute\u001b[38;5;241m.\u001b[39mexecute_with_cancellation(\n\u001b[0;32m   1561\u001b[0m       name\u001b[38;5;241m.\u001b[39mdecode(\u001b[38;5;124m\"\u001b[39m\u001b[38;5;124mutf-8\u001b[39m\u001b[38;5;124m\"\u001b[39m),\n\u001b[0;32m   1562\u001b[0m       num_outputs\u001b[38;5;241m=\u001b[39mnum_outputs,\n\u001b[1;32m   (...)\u001b[0m\n\u001b[0;32m   1566\u001b[0m       cancellation_manager\u001b[38;5;241m=\u001b[39mcancellation_context,\n\u001b[0;32m   1567\u001b[0m   )\n",
      "File \u001b[1;32mc:\\Users\\Matheus\\Desktop\\Matheus\\Programming\\Python\\MachineLearning\\venv\\Lib\\site-packages\\tensorflow\\python\\eager\\execute.py:53\u001b[0m, in \u001b[0;36mquick_execute\u001b[1;34m(op_name, num_outputs, inputs, attrs, ctx, name)\u001b[0m\n\u001b[0;32m     51\u001b[0m \u001b[38;5;28;01mtry\u001b[39;00m:\n\u001b[0;32m     52\u001b[0m   ctx\u001b[38;5;241m.\u001b[39mensure_initialized()\n\u001b[1;32m---> 53\u001b[0m   tensors \u001b[38;5;241m=\u001b[39m \u001b[43mpywrap_tfe\u001b[49m\u001b[38;5;241;43m.\u001b[39;49m\u001b[43mTFE_Py_Execute\u001b[49m\u001b[43m(\u001b[49m\u001b[43mctx\u001b[49m\u001b[38;5;241;43m.\u001b[39;49m\u001b[43m_handle\u001b[49m\u001b[43m,\u001b[49m\u001b[43m \u001b[49m\u001b[43mdevice_name\u001b[49m\u001b[43m,\u001b[49m\u001b[43m \u001b[49m\u001b[43mop_name\u001b[49m\u001b[43m,\u001b[49m\n\u001b[0;32m     54\u001b[0m \u001b[43m                                      \u001b[49m\u001b[43minputs\u001b[49m\u001b[43m,\u001b[49m\u001b[43m \u001b[49m\u001b[43mattrs\u001b[49m\u001b[43m,\u001b[49m\u001b[43m \u001b[49m\u001b[43mnum_outputs\u001b[49m\u001b[43m)\u001b[49m\n\u001b[0;32m     55\u001b[0m \u001b[38;5;28;01mexcept\u001b[39;00m core\u001b[38;5;241m.\u001b[39m_NotOkStatusException \u001b[38;5;28;01mas\u001b[39;00m e:\n\u001b[0;32m     56\u001b[0m   \u001b[38;5;28;01mif\u001b[39;00m name \u001b[38;5;129;01mis\u001b[39;00m \u001b[38;5;129;01mnot\u001b[39;00m \u001b[38;5;28;01mNone\u001b[39;00m:\n",
      "\u001b[1;31mKeyboardInterrupt\u001b[0m: "
     ]
    }
   ],
   "source": [
    "# Rodando o modelo:\n",
    "\n",
    "gan = DCGAN(altura=28, largura=28, channels=1, x_treino=x_treino) # instanciando a classe\n",
    "gan.train(train_steps=10000, batch_size=256, intervalo_mostra_imagens=1000) # treinando"
   ]
  },
  {
   "cell_type": "code",
   "execution_count": null,
   "metadata": {},
   "outputs": [],
   "source": [
    "# Mostrando os resultados finais:\n",
    "gan.plot_images(fake=True) "
   ]
  },
  {
   "cell_type": "code",
   "execution_count": null,
   "metadata": {},
   "outputs": [],
   "source": []
  }
 ],
 "metadata": {
  "kernelspec": {
   "display_name": "venv",
   "language": "python",
   "name": "python3"
  },
  "language_info": {
   "codemirror_mode": {
    "name": "ipython",
    "version": 3
   },
   "file_extension": ".py",
   "mimetype": "text/x-python",
   "name": "python",
   "nbconvert_exporter": "python",
   "pygments_lexer": "ipython3",
   "version": "3.12.4"
  }
 },
 "nbformat": 4,
 "nbformat_minor": 4
}
