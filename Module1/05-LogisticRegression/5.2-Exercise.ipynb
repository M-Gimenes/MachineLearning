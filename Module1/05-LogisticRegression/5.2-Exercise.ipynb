{
 "cells": [
  {
   "cell_type": "code",
   "execution_count": 26,
   "metadata": {},
   "outputs": [],
   "source": [
    "from sklearn.datasets import load_breast_cancer\n",
    "import pandas as pd\n",
    "pd.set_option(\"display.max_columns\", 30)\n",
    "table = load_breast_cancer()\n",
    "x = pd.DataFrame(table.data, columns=[table.feature_names])\n",
    "y = pd.Series(table.target)\n"
   ]
  },
  {
   "cell_type": "code",
   "execution_count": 27,
   "metadata": {},
   "outputs": [
    {
     "name": "stdout",
     "output_type": "stream",
     "text": [
      "Best accuracy: 0.968390001552554\n",
      "Param C: 100\n",
      "Regularization: l1\n"
     ]
    }
   ],
   "source": [
    "from sklearn.linear_model import LogisticRegression\n",
    "from sklearn.model_selection import GridSearchCV\n",
    "\n",
    "grid_param = {\"C\": [0.01, 0.1, 0.5, 1, 2, 3, 5,\n",
    "                    10, 20, 50, 100], \"penalty\": [\"l1\", \"l2\"]}\n",
    "\n",
    "model = LogisticRegression(solver=\"liblinear\", max_iter=200)\n",
    "\n",
    "grid_LR = GridSearchCV(estimator=model, param_grid=grid_param, cv=5)\n",
    "grid_LR.fit(x, y)\n",
    "\n",
    "print(f\"Best accuracy: {grid_LR.best_score_}\")\n",
    "print(f\"Param C: {grid_LR.best_estimator_.C}\")\n",
    "print(f\"Regularization: {grid_LR.best_estimator_.penalty}\")\n"
   ]
  },
  {
   "cell_type": "code",
   "execution_count": 25,
   "metadata": {},
   "outputs": [
    {
     "name": "stdout",
     "output_type": "stream",
     "text": [
      "Best accuracy: 0.9701443875174662\n",
      "Param C: 82\n",
      "Regularization: l1\n"
     ]
    }
   ],
   "source": [
    "import numpy as np\n",
    "\n",
    "arr = np.arange(80, 90)\n",
    "grid_param = {\"C\": arr}\n",
    "\n",
    "model = LogisticRegression(solver=\"liblinear\", max_iter=200, penalty=\"l1\")\n",
    "\n",
    "grid_LR = GridSearchCV(estimator=model, param_grid=grid_param, cv=5)\n",
    "grid_LR.fit(x, y)\n",
    "\n",
    "print(f\"Best accuracy: {grid_LR.best_score_}\")\n",
    "print(f\"Param C: {grid_LR.best_estimator_.C}\")\n",
    "print(f\"Regularization: {grid_LR.best_estimator_.penalty}\")\n"
   ]
  }
 ],
 "metadata": {
  "kernelspec": {
   "display_name": "Python 3.8.10 64-bit",
   "language": "python",
   "name": "python3"
  },
  "language_info": {
   "codemirror_mode": {
    "name": "ipython",
    "version": 3
   },
   "file_extension": ".py",
   "mimetype": "text/x-python",
   "name": "python",
   "nbconvert_exporter": "python",
   "pygments_lexer": "ipython3",
   "version": "3.8.10"
  },
  "orig_nbformat": 4,
  "vscode": {
   "interpreter": {
    "hash": "570feb405e2e27c949193ac68f46852414290d515b0ba6e5d90d076ed2284471"
   }
  }
 },
 "nbformat": 4,
 "nbformat_minor": 2
}
