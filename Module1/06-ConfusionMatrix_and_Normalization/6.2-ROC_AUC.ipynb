{
 "cells": [
  {
   "cell_type": "code",
   "execution_count": 21,
   "metadata": {},
   "outputs": [],
   "source": [
    "from sklearn.datasets import load_breast_cancer\n",
    "import pandas as pd\n",
    "pd.set_option(\"display.max_columns\", 30)\n",
    "table = load_breast_cancer()\n",
    "x = pd.DataFrame(table.data, columns=[table.feature_names])\n",
    "y = pd.Series(table.target)\n"
   ]
  },
  {
   "cell_type": "code",
   "execution_count": 22,
   "metadata": {},
   "outputs": [
    {
     "data": {
      "text/plain": [
       "0.9649122807017544"
      ]
     },
     "execution_count": 22,
     "metadata": {},
     "output_type": "execute_result"
    }
   ],
   "source": [
    "from sklearn.linear_model import LogisticRegression\n",
    "from sklearn.model_selection import train_test_split\n",
    "\n",
    "x_train, x_test, y_train, y_test = train_test_split(x, y, test_size=0.3)\n",
    "\n",
    "model = LogisticRegression(\n",
    "    C=82, penalty=\"l1\", solver=\"liblinear\", max_iter=200)\n",
    "model.fit(x_train, y_train)\n",
    "\n",
    "result = model.score(x_test, y_test)\n",
    "result\n"
   ]
  },
  {
   "cell_type": "code",
   "execution_count": 23,
   "metadata": {},
   "outputs": [
    {
     "name": "stdout",
     "output_type": "stream",
     "text": [
      "TPR:  [0.         0.00877193 0.99122807 0.99122807 1.         1.        ]\n",
      "FPR:  [0.        0.        0.        0.0877193 0.0877193 1.       ]\n",
      "Thresholds:  [1.99999996e+00 9.99999959e-01 7.19601785e-01 5.69196539e-01\n",
      " 1.94562906e-01 2.89170338e-78]\n"
     ]
    }
   ],
   "source": [
    "from sklearn.metrics import roc_curve\n",
    "\n",
    "predict = model.predict_proba(x_test)\n",
    "probs = predict[:, 1]\n",
    "fpr, tpr, thresholds = roc_curve(y_test, probs)\n",
    "\n",
    "print(\"TPR: \", tpr)  # = TP / (TP+FN)\n",
    "print(\"FPR: \", fpr)  # = FP / (FP+TN)\n",
    "print(\"Thresholds: \", thresholds)\n"
   ]
  },
  {
   "cell_type": "code",
   "execution_count": 24,
   "metadata": {},
   "outputs": [
    {
     "data": {
      "image/png": "[encoded data removed]",
      "text/plain": [
       "<Figure size 640x480 with 1 Axes>"
      ]
     },
     "metadata": {},
     "output_type": "display_data"
    }
   ],
   "source": [
    "import matplotlib.pyplot as plt\n",
    "plt.scatter(fpr, tpr)\n",
    "plt.show()\n"
   ]
  },
  {
   "cell_type": "code",
   "execution_count": 25,
   "metadata": {},
   "outputs": [
    {
     "name": "stdout",
     "output_type": "stream",
     "text": [
      "0.9992305324715296\n"
     ]
    }
   ],
   "source": [
    "from sklearn.metrics import roc_auc_score\n",
    "print(roc_auc_score(y_test, probs))  # Area Under Curve\n"
   ]
  }
 ],
 "metadata": {
  "kernelspec": {
   "display_name": "Python 3.8.10 64-bit",
   "language": "python",
   "name": "python3"
  },
  "language_info": {
   "codemirror_mode": {
    "name": "ipython",
    "version": 3
   },
   "file_extension": ".py",
   "mimetype": "text/x-python",
   "name": "python",
   "nbconvert_exporter": "python",
   "pygments_lexer": "ipython3",
   "version": "3.8.10"
  },
  "orig_nbformat": 4,
  "vscode": {
   "interpreter": {
    "hash": "570feb405e2e27c949193ac68f46852414290d515b0ba6e5d90d076ed2284471"
   }
  }
 },
 "nbformat": 4,
 "nbformat_minor": 2
}
