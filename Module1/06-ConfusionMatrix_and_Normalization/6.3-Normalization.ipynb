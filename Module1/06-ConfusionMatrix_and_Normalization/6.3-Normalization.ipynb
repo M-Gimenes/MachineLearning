{
 "cells": [
  {
   "cell_type": "markdown",
   "metadata": {},
   "source": [
    "### MinMaxScaler\n",
    "\n",
    ">X_std = (X - Xmin) / (Xmax - Xmin)\n",
    "\n",
    ">X_scaled = X_std * (máx - min) + min"
   ]
  },
  {
   "cell_type": "code",
   "execution_count": 37,
   "metadata": {},
   "outputs": [
    {
     "name": "stdout",
     "output_type": "stream",
     "text": [
      "[[0.75       0.         0.         0.5       ]\n",
      " [0.         0.33333333 1.         1.        ]\n",
      " [1.         1.         0.42857143 0.        ]]\n"
     ]
    }
   ],
   "source": [
    "from sklearn.preprocessing import MinMaxScaler\n",
    "X = [[4, 1, 2, 2], [1, 3, 9, 3], [5, 7, 5, 1]]\n",
    "normalizer = MinMaxScaler(feature_range=(0, 1))\n",
    "print(normalizer.fit_transform(X))\n"
   ]
  },
  {
   "cell_type": "markdown",
   "metadata": {},
   "source": [
    "### StandardScaler\n",
    "\n",
    ">z = (x - u) / s"
   ]
  },
  {
   "cell_type": "code",
   "execution_count": 38,
   "metadata": {},
   "outputs": [
    {
     "name": "stdout",
     "output_type": "stream",
     "text": [
      "[[ 0.39223227 -1.06904497 -1.16247639  0.        ]\n",
      " [-1.37281295 -0.26726124  1.27872403  1.22474487]\n",
      " [ 0.98058068  1.33630621 -0.11624764 -1.22474487]]\n"
     ]
    }
   ],
   "source": [
    "from sklearn.preprocessing import StandardScaler\n",
    "X = [[4, 1, 2, 2], [1, 3, 9, 3], [5, 7, 5, 1]]\n",
    "normalizer = StandardScaler()\n",
    "print(normalizer.fit_transform(X))\n"
   ]
  },
  {
   "cell_type": "markdown",
   "metadata": {},
   "source": [
    "### MaxAbsScaler\n",
    "\n",
    "> X’ = X/M (onde M é o valor máximo)"
   ]
  },
  {
   "cell_type": "code",
   "execution_count": 39,
   "metadata": {},
   "outputs": [
    {
     "name": "stdout",
     "output_type": "stream",
     "text": [
      "[[0.8        0.14285714 0.22222222 0.66666667]\n",
      " [0.2        0.42857143 1.         1.        ]\n",
      " [1.         1.         0.55555556 0.33333333]]\n"
     ]
    }
   ],
   "source": [
    "from sklearn.preprocessing import MaxAbsScaler\n",
    "X = [[4, 1, 2, 2], [1, 3, 9, 3], [5, 7, 5, 1]]\n",
    "normalizer = MaxAbsScaler()\n",
    "print(normalizer.fit_transform(X))\n"
   ]
  },
  {
   "cell_type": "markdown",
   "metadata": {},
   "source": [
    "### Normalize function\n",
    "\n",
    ">l1: z = Sum xi\n",
    "\n",
    ">l2: z = sqrt(Sum x^2)\n",
    "\n",
    ">max = z = max_xi"
   ]
  },
  {
   "cell_type": "code",
   "execution_count": 40,
   "metadata": {},
   "outputs": [
    {
     "name": "stdout",
     "output_type": "stream",
     "text": [
      "[[0.44444444 0.11111111 0.22222222 0.22222222]\n",
      " [0.0625     0.1875     0.5625     0.1875    ]\n",
      " [0.27777778 0.38888889 0.27777778 0.05555556]]\n"
     ]
    }
   ],
   "source": [
    "from sklearn.preprocessing import normalize\n",
    "X = [[4, 1, 2, 2], [1, 3, 9, 3], [5, 7, 5, 1]]\n",
    "normalizer = normalize(X, norm='l1')\n",
    "print(normalizer)\n"
   ]
  },
  {
   "cell_type": "code",
   "execution_count": 41,
   "metadata": {},
   "outputs": [
    {
     "name": "stdout",
     "output_type": "stream",
     "text": [
      "[[0.8 0.2 0.4 0.4]\n",
      " [0.1 0.3 0.9 0.3]\n",
      " [0.5 0.7 0.5 0.1]]\n"
     ]
    }
   ],
   "source": [
    "from sklearn.preprocessing import normalize\n",
    "X = [[4, 1, 2, 2], [1, 3, 9, 3], [5, 7, 5, 1]]\n",
    "normalizer = normalize(X, norm='l2')\n",
    "print(normalizer)\n"
   ]
  },
  {
   "cell_type": "code",
   "execution_count": 42,
   "metadata": {},
   "outputs": [
    {
     "name": "stdout",
     "output_type": "stream",
     "text": [
      "[[0.8        0.14285714 0.22222222 0.66666667]\n",
      " [0.2        0.42857143 1.         1.        ]\n",
      " [1.         1.         0.55555556 0.33333333]]\n"
     ]
    }
   ],
   "source": [
    "from sklearn.preprocessing import normalize\n",
    "X = [[4, 1, 2, 2], [1, 3, 9, 3], [5, 7, 5, 1]]\n",
    "normalizer = normalize(X, norm='max', axis=0)\n",
    "print(normalizer)\n"
   ]
  }
 ],
 "metadata": {
  "kernelspec": {
   "display_name": "Python 3.8.10 64-bit",
   "language": "python",
   "name": "python3"
  },
  "language_info": {
   "codemirror_mode": {
    "name": "ipython",
    "version": 3
   },
   "file_extension": ".py",
   "mimetype": "text/x-python",
   "name": "python",
   "nbconvert_exporter": "python",
   "pygments_lexer": "ipython3",
   "version": "3.8.10"
  },
  "orig_nbformat": 4,
  "vscode": {
   "interpreter": {
    "hash": "570feb405e2e27c949193ac68f46852414290d515b0ba6e5d90d076ed2284471"
   }
  }
 },
 "nbformat": 4,
 "nbformat_minor": 2
}
